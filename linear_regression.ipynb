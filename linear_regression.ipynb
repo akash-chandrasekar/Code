{
 "cells": [
  {
   "cell_type": "code",
   "execution_count": 5,
   "id": "70374fb6-3231-4973-8db3-da2aa7172d74",
   "metadata": {},
   "outputs": [],
   "source": [
    "import pandas as pd\n",
    "from matplotlib import pyplot as plt\n",
    "import seaborn as sns\n",
    "from sklearn.linear_model import LinearRegression\n",
    "import numpy as np"
   ]
  },
  {
   "cell_type": "code",
   "execution_count": 6,
   "id": "a75f5b6f-9ae3-42e2-a6b1-6b69f065e80b",
   "metadata": {},
   "outputs": [],
   "source": [
    "cars = pd.read_csv('Cars.csv')"
   ]
  },
  {
   "cell_type": "code",
   "execution_count": 7,
   "id": "93a9042d-4408-460a-b63d-37c3cc41e7a2",
   "metadata": {},
   "outputs": [
    {
     "data": {
      "text/html": [
       "<div>\n",
       "<style scoped>\n",
       "    .dataframe tbody tr th:only-of-type {\n",
       "        vertical-align: middle;\n",
       "    }\n",
       "\n",
       "    .dataframe tbody tr th {\n",
       "        vertical-align: top;\n",
       "    }\n",
       "\n",
       "    .dataframe thead th {\n",
       "        text-align: right;\n",
       "    }\n",
       "</style>\n",
       "<table border=\"1\" class=\"dataframe\">\n",
       "  <thead>\n",
       "    <tr style=\"text-align: right;\">\n",
       "      <th></th>\n",
       "      <th>HP</th>\n",
       "      <th>MPG</th>\n",
       "      <th>VOL</th>\n",
       "      <th>SP</th>\n",
       "      <th>WT</th>\n",
       "    </tr>\n",
       "  </thead>\n",
       "  <tbody>\n",
       "    <tr>\n",
       "      <th>0</th>\n",
       "      <td>49</td>\n",
       "      <td>53.700681</td>\n",
       "      <td>89</td>\n",
       "      <td>104.185353</td>\n",
       "      <td>28.762059</td>\n",
       "    </tr>\n",
       "    <tr>\n",
       "      <th>1</th>\n",
       "      <td>55</td>\n",
       "      <td>50.013401</td>\n",
       "      <td>92</td>\n",
       "      <td>105.461264</td>\n",
       "      <td>30.466833</td>\n",
       "    </tr>\n",
       "    <tr>\n",
       "      <th>2</th>\n",
       "      <td>55</td>\n",
       "      <td>50.013401</td>\n",
       "      <td>92</td>\n",
       "      <td>105.461264</td>\n",
       "      <td>30.193597</td>\n",
       "    </tr>\n",
       "    <tr>\n",
       "      <th>3</th>\n",
       "      <td>70</td>\n",
       "      <td>45.696322</td>\n",
       "      <td>92</td>\n",
       "      <td>113.461264</td>\n",
       "      <td>30.632114</td>\n",
       "    </tr>\n",
       "    <tr>\n",
       "      <th>4</th>\n",
       "      <td>53</td>\n",
       "      <td>50.504232</td>\n",
       "      <td>92</td>\n",
       "      <td>104.461264</td>\n",
       "      <td>29.889149</td>\n",
       "    </tr>\n",
       "    <tr>\n",
       "      <th>...</th>\n",
       "      <td>...</td>\n",
       "      <td>...</td>\n",
       "      <td>...</td>\n",
       "      <td>...</td>\n",
       "      <td>...</td>\n",
       "    </tr>\n",
       "    <tr>\n",
       "      <th>76</th>\n",
       "      <td>322</td>\n",
       "      <td>36.900000</td>\n",
       "      <td>50</td>\n",
       "      <td>169.598513</td>\n",
       "      <td>16.132947</td>\n",
       "    </tr>\n",
       "    <tr>\n",
       "      <th>77</th>\n",
       "      <td>238</td>\n",
       "      <td>19.197888</td>\n",
       "      <td>115</td>\n",
       "      <td>150.576579</td>\n",
       "      <td>37.923113</td>\n",
       "    </tr>\n",
       "    <tr>\n",
       "      <th>78</th>\n",
       "      <td>263</td>\n",
       "      <td>34.000000</td>\n",
       "      <td>50</td>\n",
       "      <td>151.598513</td>\n",
       "      <td>15.769625</td>\n",
       "    </tr>\n",
       "    <tr>\n",
       "      <th>79</th>\n",
       "      <td>295</td>\n",
       "      <td>19.833733</td>\n",
       "      <td>119</td>\n",
       "      <td>167.944460</td>\n",
       "      <td>39.423099</td>\n",
       "    </tr>\n",
       "    <tr>\n",
       "      <th>80</th>\n",
       "      <td>236</td>\n",
       "      <td>12.101263</td>\n",
       "      <td>107</td>\n",
       "      <td>139.840817</td>\n",
       "      <td>34.948615</td>\n",
       "    </tr>\n",
       "  </tbody>\n",
       "</table>\n",
       "<p>81 rows × 5 columns</p>\n",
       "</div>"
      ],
      "text/plain": [
       "     HP        MPG  VOL          SP         WT\n",
       "0    49  53.700681   89  104.185353  28.762059\n",
       "1    55  50.013401   92  105.461264  30.466833\n",
       "2    55  50.013401   92  105.461264  30.193597\n",
       "3    70  45.696322   92  113.461264  30.632114\n",
       "4    53  50.504232   92  104.461264  29.889149\n",
       "..  ...        ...  ...         ...        ...\n",
       "76  322  36.900000   50  169.598513  16.132947\n",
       "77  238  19.197888  115  150.576579  37.923113\n",
       "78  263  34.000000   50  151.598513  15.769625\n",
       "79  295  19.833733  119  167.944460  39.423099\n",
       "80  236  12.101263  107  139.840817  34.948615\n",
       "\n",
       "[81 rows x 5 columns]"
      ]
     },
     "execution_count": 7,
     "metadata": {},
     "output_type": "execute_result"
    }
   ],
   "source": [
    "cars"
   ]
  },
  {
   "cell_type": "code",
   "execution_count": 8,
   "id": "13e68ca8-088f-43f9-a9f8-4a3c95fbd18c",
   "metadata": {},
   "outputs": [
    {
     "data": {
      "text/plain": [
       "(81, 5)"
      ]
     },
     "execution_count": 8,
     "metadata": {},
     "output_type": "execute_result"
    }
   ],
   "source": [
    "cars.shape"
   ]
  },
  {
   "cell_type": "code",
   "execution_count": 9,
   "id": "9af77a18-a88b-4ea7-b213-2a0f8fa8903e",
   "metadata": {},
   "outputs": [
    {
     "data": {
      "text/plain": [
       "HP     0\n",
       "MPG    0\n",
       "VOL    0\n",
       "SP     0\n",
       "WT     0\n",
       "dtype: int64"
      ]
     },
     "execution_count": 9,
     "metadata": {},
     "output_type": "execute_result"
    }
   ],
   "source": [
    "cars.isna().sum()"
   ]
  },
  {
   "cell_type": "code",
   "execution_count": 10,
   "id": "94166061-a591-4d52-8524-e05fda6b006e",
   "metadata": {},
   "outputs": [
    {
     "name": "stdout",
     "output_type": "stream",
     "text": [
      "<class 'pandas.core.frame.DataFrame'>\n",
      "RangeIndex: 81 entries, 0 to 80\n",
      "Data columns (total 5 columns):\n",
      " #   Column  Non-Null Count  Dtype  \n",
      "---  ------  --------------  -----  \n",
      " 0   HP      81 non-null     int64  \n",
      " 1   MPG     81 non-null     float64\n",
      " 2   VOL     81 non-null     int64  \n",
      " 3   SP      81 non-null     float64\n",
      " 4   WT      81 non-null     float64\n",
      "dtypes: float64(3), int64(2)\n",
      "memory usage: 3.3 KB\n"
     ]
    }
   ],
   "source": [
    "cars.info()"
   ]
  },
  {
   "cell_type": "code",
   "execution_count": 11,
   "id": "61e43b1f-ce1c-4648-9a9f-29ef8a7b73b4",
   "metadata": {},
   "outputs": [
    {
     "data": {
      "text/html": [
       "<div>\n",
       "<style scoped>\n",
       "    .dataframe tbody tr th:only-of-type {\n",
       "        vertical-align: middle;\n",
       "    }\n",
       "\n",
       "    .dataframe tbody tr th {\n",
       "        vertical-align: top;\n",
       "    }\n",
       "\n",
       "    .dataframe thead th {\n",
       "        text-align: right;\n",
       "    }\n",
       "</style>\n",
       "<table border=\"1\" class=\"dataframe\">\n",
       "  <thead>\n",
       "    <tr style=\"text-align: right;\">\n",
       "      <th></th>\n",
       "      <th>HP</th>\n",
       "      <th>MPG</th>\n",
       "      <th>VOL</th>\n",
       "      <th>SP</th>\n",
       "      <th>WT</th>\n",
       "    </tr>\n",
       "  </thead>\n",
       "  <tbody>\n",
       "    <tr>\n",
       "      <th>count</th>\n",
       "      <td>81.000000</td>\n",
       "      <td>81.000000</td>\n",
       "      <td>81.000000</td>\n",
       "      <td>81.000000</td>\n",
       "      <td>81.000000</td>\n",
       "    </tr>\n",
       "    <tr>\n",
       "      <th>mean</th>\n",
       "      <td>117.469136</td>\n",
       "      <td>34.422076</td>\n",
       "      <td>98.765432</td>\n",
       "      <td>121.540272</td>\n",
       "      <td>32.412577</td>\n",
       "    </tr>\n",
       "    <tr>\n",
       "      <th>std</th>\n",
       "      <td>57.113502</td>\n",
       "      <td>9.131445</td>\n",
       "      <td>22.301497</td>\n",
       "      <td>14.181432</td>\n",
       "      <td>7.492813</td>\n",
       "    </tr>\n",
       "    <tr>\n",
       "      <th>min</th>\n",
       "      <td>49.000000</td>\n",
       "      <td>12.101263</td>\n",
       "      <td>50.000000</td>\n",
       "      <td>99.564907</td>\n",
       "      <td>15.712859</td>\n",
       "    </tr>\n",
       "    <tr>\n",
       "      <th>25%</th>\n",
       "      <td>84.000000</td>\n",
       "      <td>27.856252</td>\n",
       "      <td>89.000000</td>\n",
       "      <td>113.829145</td>\n",
       "      <td>29.591768</td>\n",
       "    </tr>\n",
       "    <tr>\n",
       "      <th>50%</th>\n",
       "      <td>100.000000</td>\n",
       "      <td>35.152727</td>\n",
       "      <td>101.000000</td>\n",
       "      <td>118.208698</td>\n",
       "      <td>32.734518</td>\n",
       "    </tr>\n",
       "    <tr>\n",
       "      <th>75%</th>\n",
       "      <td>140.000000</td>\n",
       "      <td>39.531633</td>\n",
       "      <td>113.000000</td>\n",
       "      <td>126.404312</td>\n",
       "      <td>37.392524</td>\n",
       "    </tr>\n",
       "    <tr>\n",
       "      <th>max</th>\n",
       "      <td>322.000000</td>\n",
       "      <td>53.700681</td>\n",
       "      <td>160.000000</td>\n",
       "      <td>169.598513</td>\n",
       "      <td>52.997752</td>\n",
       "    </tr>\n",
       "  </tbody>\n",
       "</table>\n",
       "</div>"
      ],
      "text/plain": [
       "               HP        MPG         VOL          SP         WT\n",
       "count   81.000000  81.000000   81.000000   81.000000  81.000000\n",
       "mean   117.469136  34.422076   98.765432  121.540272  32.412577\n",
       "std     57.113502   9.131445   22.301497   14.181432   7.492813\n",
       "min     49.000000  12.101263   50.000000   99.564907  15.712859\n",
       "25%     84.000000  27.856252   89.000000  113.829145  29.591768\n",
       "50%    100.000000  35.152727  101.000000  118.208698  32.734518\n",
       "75%    140.000000  39.531633  113.000000  126.404312  37.392524\n",
       "max    322.000000  53.700681  160.000000  169.598513  52.997752"
      ]
     },
     "execution_count": 11,
     "metadata": {},
     "output_type": "execute_result"
    }
   ],
   "source": [
    "cars.describe()"
   ]
  },
  {
   "cell_type": "code",
   "execution_count": 12,
   "id": "afd3d295-b4da-44e2-b239-aabd4138f960",
   "metadata": {},
   "outputs": [
    {
     "name": "stderr",
     "output_type": "stream",
     "text": [
      "/var/folders/5b/vf5hrqmd0z7_801v82j5pb680000gn/T/ipykernel_35493/183442867.py:2: UserWarning: \n",
      "\n",
      "`distplot` is a deprecated function and will be removed in seaborn v0.14.0.\n",
      "\n",
      "Please adapt your code to use either `displot` (a figure-level function with\n",
      "similar flexibility) or `histplot` (an axes-level function for histograms).\n",
      "\n",
      "For a guide to updating your code to use the new functions, please see\n",
      "https://gist.github.com/mwaskom/de44147ed2974457ad6372750bbe5751\n",
      "\n",
      "  sns.distplot(cars['MPG'])\n"
     ]
    },
    {
     "data": {
      "image/png": "[encoded data removed]",
      "text/plain": [
       "<Figure size 640x480 with 1 Axes>"
      ]
     },
     "metadata": {},
     "output_type": "display_data"
    }
   ],
   "source": [
    "# upgraded version of histogram\n",
    "sns.distplot(cars['MPG'])\n",
    "plt.show()"
   ]
  },
  {
   "cell_type": "markdown",
   "id": "fe0a36d0-1ccf-4d16-ae2d-f45035587cf4",
   "metadata": {},
   "source": [
    "# assumption 1: Linearity test "
   ]
  },
  {
   "cell_type": "code",
   "execution_count": 13,
   "id": "59eb03de-b8ad-4043-9435-7b67c292409f",
   "metadata": {},
   "outputs": [
    {
     "data": {
      "image/png": "[encoded data removed]",
      "text/plain": [
       "<Figure size 500x500 with 1 Axes>"
      ]
     },
     "metadata": {},
     "output_type": "display_data"
    },
    {
     "data": {
      "image/png": "[encoded data removed]",
      "text/plain": [
       "<Figure size 500x500 with 1 Axes>"
      ]
     },
     "metadata": {},
     "output_type": "display_data"
    },
    {
     "data": {
      "image/png": "[encoded data removed]",
      "text/plain": [
       "<Figure size 500x500 with 1 Axes>"
      ]
     },
     "metadata": {},
     "output_type": "display_data"
    },
    {
     "data": {
      "image/png": "[encoded data removed]",
      "text/plain": [
       "<Figure size 500x500 with 1 Axes>"
      ]
     },
     "metadata": {},
     "output_type": "display_data"
    },
    {
     "data": {
      "image/png": "[encoded data removed]",
      "text/plain": [
       "<Figure size 500x500 with 1 Axes>"
      ]
     },
     "metadata": {},
     "output_type": "display_data"
    }
   ],
   "source": [
    "# doing scatter plot for all the features using loops\n",
    "# lmplot is modified version of scatter plot\n",
    "for i in cars.columns:\n",
    "    sns.lmplot(data = cars, x = i,y = 'MPG')"
   ]
  },
  {
   "cell_type": "markdown",
   "id": "cd543031-23f8-4307-8ffb-67203d87abe1",
   "metadata": {},
   "source": [
    "## Linearity test failed coz there's no such relationaship b/w them"
   ]
  },
  {
   "cell_type": "markdown",
   "id": "53e098d6-b5c3-4d2b-a7d4-7d828377cd21",
   "metadata": {},
   "source": [
    "# Assumption 2: No MultiCollinearity test"
   ]
  },
  {
   "cell_type": "code",
   "execution_count": 14,
   "id": "d383b2b9-3cb4-43fa-9113-631741f1968f",
   "metadata": {},
   "outputs": [
    {
     "data": {
      "text/html": [
       "<div>\n",
       "<style scoped>\n",
       "    .dataframe tbody tr th:only-of-type {\n",
       "        vertical-align: middle;\n",
       "    }\n",
       "\n",
       "    .dataframe tbody tr th {\n",
       "        vertical-align: top;\n",
       "    }\n",
       "\n",
       "    .dataframe thead th {\n",
       "        text-align: right;\n",
       "    }\n",
       "</style>\n",
       "<table border=\"1\" class=\"dataframe\">\n",
       "  <thead>\n",
       "    <tr style=\"text-align: right;\">\n",
       "      <th></th>\n",
       "      <th>HP</th>\n",
       "      <th>MPG</th>\n",
       "      <th>VOL</th>\n",
       "      <th>SP</th>\n",
       "      <th>WT</th>\n",
       "    </tr>\n",
       "  </thead>\n",
       "  <tbody>\n",
       "    <tr>\n",
       "      <th>HP</th>\n",
       "      <td>1.000000</td>\n",
       "      <td>-0.725038</td>\n",
       "      <td>0.077459</td>\n",
       "      <td>0.973848</td>\n",
       "      <td>0.076513</td>\n",
       "    </tr>\n",
       "    <tr>\n",
       "      <th>MPG</th>\n",
       "      <td>-0.725038</td>\n",
       "      <td>1.000000</td>\n",
       "      <td>-0.529057</td>\n",
       "      <td>-0.687125</td>\n",
       "      <td>-0.526759</td>\n",
       "    </tr>\n",
       "    <tr>\n",
       "      <th>VOL</th>\n",
       "      <td>0.077459</td>\n",
       "      <td>-0.529057</td>\n",
       "      <td>1.000000</td>\n",
       "      <td>0.102170</td>\n",
       "      <td>0.999203</td>\n",
       "    </tr>\n",
       "    <tr>\n",
       "      <th>SP</th>\n",
       "      <td>0.973848</td>\n",
       "      <td>-0.687125</td>\n",
       "      <td>0.102170</td>\n",
       "      <td>1.000000</td>\n",
       "      <td>0.102439</td>\n",
       "    </tr>\n",
       "    <tr>\n",
       "      <th>WT</th>\n",
       "      <td>0.076513</td>\n",
       "      <td>-0.526759</td>\n",
       "      <td>0.999203</td>\n",
       "      <td>0.102439</td>\n",
       "      <td>1.000000</td>\n",
       "    </tr>\n",
       "  </tbody>\n",
       "</table>\n",
       "</div>"
      ],
      "text/plain": [
       "           HP       MPG       VOL        SP        WT\n",
       "HP   1.000000 -0.725038  0.077459  0.973848  0.076513\n",
       "MPG -0.725038  1.000000 -0.529057 -0.687125 -0.526759\n",
       "VOL  0.077459 -0.529057  1.000000  0.102170  0.999203\n",
       "SP   0.973848 -0.687125  0.102170  1.000000  0.102439\n",
       "WT   0.076513 -0.526759  0.999203  0.102439  1.000000"
      ]
     },
     "execution_count": 14,
     "metadata": {},
     "output_type": "execute_result"
    }
   ],
   "source": [
    "cars.corr()"
   ]
  },
  {
   "cell_type": "code",
   "execution_count": 15,
   "id": "a4a74b66-6217-4299-8f08-5d5941383691",
   "metadata": {},
   "outputs": [
    {
     "data": {
      "text/plain": [
       "<seaborn.axisgrid.FacetGrid at 0x124bc86b0>"
      ]
     },
     "execution_count": 15,
     "metadata": {},
     "output_type": "execute_result"
    },
    {
     "data": {
      "image/png": "[encoded data removed]",
      "text/plain": [
       "<Figure size 500x500 with 1 Axes>"
      ]
     },
     "metadata": {},
     "output_type": "display_data"
    }
   ],
   "source": [
    "# where the corr() states that VOL and WT has very strong realtionship\n",
    "sns.lmplot(data = cars,x= 'VOL',y='WT')"
   ]
  },
  {
   "cell_type": "code",
   "execution_count": 16,
   "id": "cc507f23-1cb9-4e5a-be02-fe68ecf0d07c",
   "metadata": {},
   "outputs": [
    {
     "data": {
      "image/png": "[encoded data removed]",
      "text/plain": [
       "<Figure size 640x480 with 2 Axes>"
      ]
     },
     "metadata": {},
     "output_type": "display_data"
    }
   ],
   "source": [
    "sns.heatmap(data = cars.corr(),annot = True)\n",
    "plt.show()"
   ]
  },
  {
   "cell_type": "markdown",
   "id": "70a4dd87-1295-46d4-9255-5c6f7c74b013",
   "metadata": {},
   "source": [
    "we can able to say that HP and SP has very high correlation b/w them and VOL and WT has very strong relationship amoung them\n",
    "-> so these relationship will affect the model performance"
   ]
  },
  {
   "cell_type": "markdown",
   "id": "bc9f6837-1d95-4810-b0c2-53611da3ff1b",
   "metadata": {},
   "source": [
    "## Therefore the no MultiCollinearity also fails"
   ]
  },
  {
   "cell_type": "markdown",
   "id": "f21470ef-7e30-404d-b523-66ad6399320a",
   "metadata": {},
   "source": [
    "# assumption 3: No auto regression data(no time dependent data)"
   ]
  },
  {
   "cell_type": "code",
   "execution_count": 17,
   "id": "804bcc39-ea16-4ce2-beec-2b0b438ad474",
   "metadata": {},
   "outputs": [
    {
     "data": {
      "text/html": [
       "<div>\n",
       "<style scoped>\n",
       "    .dataframe tbody tr th:only-of-type {\n",
       "        vertical-align: middle;\n",
       "    }\n",
       "\n",
       "    .dataframe tbody tr th {\n",
       "        vertical-align: top;\n",
       "    }\n",
       "\n",
       "    .dataframe thead th {\n",
       "        text-align: right;\n",
       "    }\n",
       "</style>\n",
       "<table border=\"1\" class=\"dataframe\">\n",
       "  <thead>\n",
       "    <tr style=\"text-align: right;\">\n",
       "      <th></th>\n",
       "      <th>HP</th>\n",
       "      <th>MPG</th>\n",
       "      <th>VOL</th>\n",
       "      <th>SP</th>\n",
       "      <th>WT</th>\n",
       "    </tr>\n",
       "  </thead>\n",
       "  <tbody>\n",
       "    <tr>\n",
       "      <th>0</th>\n",
       "      <td>49</td>\n",
       "      <td>53.700681</td>\n",
       "      <td>89</td>\n",
       "      <td>104.185353</td>\n",
       "      <td>28.762059</td>\n",
       "    </tr>\n",
       "    <tr>\n",
       "      <th>1</th>\n",
       "      <td>55</td>\n",
       "      <td>50.013401</td>\n",
       "      <td>92</td>\n",
       "      <td>105.461264</td>\n",
       "      <td>30.466833</td>\n",
       "    </tr>\n",
       "    <tr>\n",
       "      <th>2</th>\n",
       "      <td>55</td>\n",
       "      <td>50.013401</td>\n",
       "      <td>92</td>\n",
       "      <td>105.461264</td>\n",
       "      <td>30.193597</td>\n",
       "    </tr>\n",
       "    <tr>\n",
       "      <th>3</th>\n",
       "      <td>70</td>\n",
       "      <td>45.696322</td>\n",
       "      <td>92</td>\n",
       "      <td>113.461264</td>\n",
       "      <td>30.632114</td>\n",
       "    </tr>\n",
       "    <tr>\n",
       "      <th>4</th>\n",
       "      <td>53</td>\n",
       "      <td>50.504232</td>\n",
       "      <td>92</td>\n",
       "      <td>104.461264</td>\n",
       "      <td>29.889149</td>\n",
       "    </tr>\n",
       "    <tr>\n",
       "      <th>...</th>\n",
       "      <td>...</td>\n",
       "      <td>...</td>\n",
       "      <td>...</td>\n",
       "      <td>...</td>\n",
       "      <td>...</td>\n",
       "    </tr>\n",
       "    <tr>\n",
       "      <th>76</th>\n",
       "      <td>322</td>\n",
       "      <td>36.900000</td>\n",
       "      <td>50</td>\n",
       "      <td>169.598513</td>\n",
       "      <td>16.132947</td>\n",
       "    </tr>\n",
       "    <tr>\n",
       "      <th>77</th>\n",
       "      <td>238</td>\n",
       "      <td>19.197888</td>\n",
       "      <td>115</td>\n",
       "      <td>150.576579</td>\n",
       "      <td>37.923113</td>\n",
       "    </tr>\n",
       "    <tr>\n",
       "      <th>78</th>\n",
       "      <td>263</td>\n",
       "      <td>34.000000</td>\n",
       "      <td>50</td>\n",
       "      <td>151.598513</td>\n",
       "      <td>15.769625</td>\n",
       "    </tr>\n",
       "    <tr>\n",
       "      <th>79</th>\n",
       "      <td>295</td>\n",
       "      <td>19.833733</td>\n",
       "      <td>119</td>\n",
       "      <td>167.944460</td>\n",
       "      <td>39.423099</td>\n",
       "    </tr>\n",
       "    <tr>\n",
       "      <th>80</th>\n",
       "      <td>236</td>\n",
       "      <td>12.101263</td>\n",
       "      <td>107</td>\n",
       "      <td>139.840817</td>\n",
       "      <td>34.948615</td>\n",
       "    </tr>\n",
       "  </tbody>\n",
       "</table>\n",
       "<p>81 rows × 5 columns</p>\n",
       "</div>"
      ],
      "text/plain": [
       "     HP        MPG  VOL          SP         WT\n",
       "0    49  53.700681   89  104.185353  28.762059\n",
       "1    55  50.013401   92  105.461264  30.466833\n",
       "2    55  50.013401   92  105.461264  30.193597\n",
       "3    70  45.696322   92  113.461264  30.632114\n",
       "4    53  50.504232   92  104.461264  29.889149\n",
       "..  ...        ...  ...         ...        ...\n",
       "76  322  36.900000   50  169.598513  16.132947\n",
       "77  238  19.197888  115  150.576579  37.923113\n",
       "78  263  34.000000   50  151.598513  15.769625\n",
       "79  295  19.833733  119  167.944460  39.423099\n",
       "80  236  12.101263  107  139.840817  34.948615\n",
       "\n",
       "[81 rows x 5 columns]"
      ]
     },
     "execution_count": 17,
     "metadata": {},
     "output_type": "execute_result"
    }
   ],
   "source": [
    "cars"
   ]
  },
  {
   "cell_type": "markdown",
   "id": "f8c463e7-fb2c-4426-b640-d138902912e5",
   "metadata": {},
   "source": [
    "## There is no time dependent present in the data\n",
    "\n",
    "## Therefore No Auto Regression is pass"
   ]
  },
  {
   "cell_type": "markdown",
   "id": "d2adc990-3d06-4c41-9a92-e9786abef53c",
   "metadata": {},
   "source": [
    "Importing Linear Regression algorithm"
   ]
  },
  {
   "cell_type": "code",
   "execution_count": 18,
   "id": "eb6ef2e1-e3f3-4514-a38e-de02a7211bc6",
   "metadata": {},
   "outputs": [],
   "source": [
    "from sklearn.linear_model import LinearRegression\n",
    "from sklearn.metrics import mean_absolute_error,r2_score"
   ]
  },
  {
   "cell_type": "markdown",
   "id": "32d15845-f2b9-4701-887a-b86125e4ffb7",
   "metadata": {},
   "source": [
    "# Data prepartion(sperating x and y)\n"
   ]
  },
  {
   "cell_type": "code",
   "execution_count": 19,
   "id": "9ef2a308-50bf-4d18-8110-bace7564eb5b",
   "metadata": {},
   "outputs": [],
   "source": [
    "x = cars.drop(labels = 'MPG',axis = 1)"
   ]
  },
  {
   "cell_type": "code",
   "execution_count": 20,
   "id": "3c109779-66a9-47be-8c32-a30ec13108c6",
   "metadata": {},
   "outputs": [
    {
     "data": {
      "text/html": [
       "<div>\n",
       "<style scoped>\n",
       "    .dataframe tbody tr th:only-of-type {\n",
       "        vertical-align: middle;\n",
       "    }\n",
       "\n",
       "    .dataframe tbody tr th {\n",
       "        vertical-align: top;\n",
       "    }\n",
       "\n",
       "    .dataframe thead th {\n",
       "        text-align: right;\n",
       "    }\n",
       "</style>\n",
       "<table border=\"1\" class=\"dataframe\">\n",
       "  <thead>\n",
       "    <tr style=\"text-align: right;\">\n",
       "      <th></th>\n",
       "      <th>HP</th>\n",
       "      <th>VOL</th>\n",
       "      <th>SP</th>\n",
       "      <th>WT</th>\n",
       "    </tr>\n",
       "  </thead>\n",
       "  <tbody>\n",
       "    <tr>\n",
       "      <th>0</th>\n",
       "      <td>49</td>\n",
       "      <td>89</td>\n",
       "      <td>104.185353</td>\n",
       "      <td>28.762059</td>\n",
       "    </tr>\n",
       "    <tr>\n",
       "      <th>1</th>\n",
       "      <td>55</td>\n",
       "      <td>92</td>\n",
       "      <td>105.461264</td>\n",
       "      <td>30.466833</td>\n",
       "    </tr>\n",
       "    <tr>\n",
       "      <th>2</th>\n",
       "      <td>55</td>\n",
       "      <td>92</td>\n",
       "      <td>105.461264</td>\n",
       "      <td>30.193597</td>\n",
       "    </tr>\n",
       "    <tr>\n",
       "      <th>3</th>\n",
       "      <td>70</td>\n",
       "      <td>92</td>\n",
       "      <td>113.461264</td>\n",
       "      <td>30.632114</td>\n",
       "    </tr>\n",
       "    <tr>\n",
       "      <th>4</th>\n",
       "      <td>53</td>\n",
       "      <td>92</td>\n",
       "      <td>104.461264</td>\n",
       "      <td>29.889149</td>\n",
       "    </tr>\n",
       "    <tr>\n",
       "      <th>...</th>\n",
       "      <td>...</td>\n",
       "      <td>...</td>\n",
       "      <td>...</td>\n",
       "      <td>...</td>\n",
       "    </tr>\n",
       "    <tr>\n",
       "      <th>76</th>\n",
       "      <td>322</td>\n",
       "      <td>50</td>\n",
       "      <td>169.598513</td>\n",
       "      <td>16.132947</td>\n",
       "    </tr>\n",
       "    <tr>\n",
       "      <th>77</th>\n",
       "      <td>238</td>\n",
       "      <td>115</td>\n",
       "      <td>150.576579</td>\n",
       "      <td>37.923113</td>\n",
       "    </tr>\n",
       "    <tr>\n",
       "      <th>78</th>\n",
       "      <td>263</td>\n",
       "      <td>50</td>\n",
       "      <td>151.598513</td>\n",
       "      <td>15.769625</td>\n",
       "    </tr>\n",
       "    <tr>\n",
       "      <th>79</th>\n",
       "      <td>295</td>\n",
       "      <td>119</td>\n",
       "      <td>167.944460</td>\n",
       "      <td>39.423099</td>\n",
       "    </tr>\n",
       "    <tr>\n",
       "      <th>80</th>\n",
       "      <td>236</td>\n",
       "      <td>107</td>\n",
       "      <td>139.840817</td>\n",
       "      <td>34.948615</td>\n",
       "    </tr>\n",
       "  </tbody>\n",
       "</table>\n",
       "<p>81 rows × 4 columns</p>\n",
       "</div>"
      ],
      "text/plain": [
       "     HP  VOL          SP         WT\n",
       "0    49   89  104.185353  28.762059\n",
       "1    55   92  105.461264  30.466833\n",
       "2    55   92  105.461264  30.193597\n",
       "3    70   92  113.461264  30.632114\n",
       "4    53   92  104.461264  29.889149\n",
       "..  ...  ...         ...        ...\n",
       "76  322   50  169.598513  16.132947\n",
       "77  238  115  150.576579  37.923113\n",
       "78  263   50  151.598513  15.769625\n",
       "79  295  119  167.944460  39.423099\n",
       "80  236  107  139.840817  34.948615\n",
       "\n",
       "[81 rows x 4 columns]"
      ]
     },
     "execution_count": 20,
     "metadata": {},
     "output_type": "execute_result"
    }
   ],
   "source": [
    "x"
   ]
  },
  {
   "cell_type": "code",
   "execution_count": 21,
   "id": "64aaf2a5-b4a4-4d2f-b9a3-53081e03e2f1",
   "metadata": {},
   "outputs": [],
   "source": [
    "y = cars['MPG']"
   ]
  },
  {
   "cell_type": "code",
   "execution_count": 22,
   "id": "88cd5da6-90ab-49b9-a413-64b52ff4732e",
   "metadata": {},
   "outputs": [
    {
     "data": {
      "text/plain": [
       "pandas.core.series.Series"
      ]
     },
     "execution_count": 22,
     "metadata": {},
     "output_type": "execute_result"
    }
   ],
   "source": [
    "type(y)"
   ]
  },
  {
   "cell_type": "markdown",
   "id": "6f8f44c8-738f-40e4-94d4-a560ba325c71",
   "metadata": {},
   "source": [
    "# Model building"
   ]
  },
  {
   "cell_type": "code",
   "execution_count": 23,
   "id": "dd46f429-cb3e-47aa-a46f-8cc4acb67a37",
   "metadata": {},
   "outputs": [],
   "source": [
    "model = LinearRegression()"
   ]
  },
  {
   "cell_type": "code",
   "execution_count": 24,
   "id": "88168ab3-e31a-4840-9611-8da5e455db4c",
   "metadata": {},
   "outputs": [
    {
     "data": {
      "text/html": [
       "<style>#sk-container-id-1 {\n",
       "  /* Definition of color scheme common for light and dark mode */\n",
       "  --sklearn-color-text: #000;\n",
       "  --sklearn-color-text-muted: #666;\n",
       "  --sklearn-color-line: gray;\n",
       "  /* Definition of color scheme for unfitted estimators */\n",
       "  --sklearn-color-unfitted-level-0: #fff5e6;\n",
       "  --sklearn-color-unfitted-level-1: #f6e4d2;\n",
       "  --sklearn-color-unfitted-level-2: #ffe0b3;\n",
       "  --sklearn-color-unfitted-level-3: chocolate;\n",
       "  /* Definition of color scheme for fitted estimators */\n",
       "  --sklearn-color-fitted-level-0: #f0f8ff;\n",
       "  --sklearn-color-fitted-level-1: #d4ebff;\n",
       "  --sklearn-color-fitted-level-2: #b3dbfd;\n",
       "  --sklearn-color-fitted-level-3: cornflowerblue;\n",
       "\n",
       "  /* Specific color for light theme */\n",
       "  --sklearn-color-text-on-default-background: var(--sg-text-color, var(--theme-code-foreground, var(--jp-content-font-color1, black)));\n",
       "  --sklearn-color-background: var(--sg-background-color, var(--theme-background, var(--jp-layout-color0, white)));\n",
       "  --sklearn-color-border-box: var(--sg-text-color, var(--theme-code-foreground, var(--jp-content-font-color1, black)));\n",
       "  --sklearn-color-icon: #696969;\n",
       "\n",
       "  @media (prefers-color-scheme: dark) {\n",
       "    /* Redefinition of color scheme for dark theme */\n",
       "    --sklearn-color-text-on-default-background: var(--sg-text-color, var(--theme-code-foreground, var(--jp-content-font-color1, white)));\n",
       "    --sklearn-color-background: var(--sg-background-color, var(--theme-background, var(--jp-layout-color0, #111)));\n",
       "    --sklearn-color-border-box: var(--sg-text-color, var(--theme-code-foreground, var(--jp-content-font-color1, white)));\n",
       "    --sklearn-color-icon: #878787;\n",
       "  }\n",
       "}\n",
       "\n",
       "#sk-container-id-1 {\n",
       "  color: var(--sklearn-color-text);\n",
       "}\n",
       "\n",
       "#sk-container-id-1 pre {\n",
       "  padding: 0;\n",
       "}\n",
       "\n",
       "#sk-container-id-1 input.sk-hidden--visually {\n",
       "  border: 0;\n",
       "  clip: rect(1px 1px 1px 1px);\n",
       "  clip: rect(1px, 1px, 1px, 1px);\n",
       "  height: 1px;\n",
       "  margin: -1px;\n",
       "  overflow: hidden;\n",
       "  padding: 0;\n",
       "  position: absolute;\n",
       "  width: 1px;\n",
       "}\n",
       "\n",
       "#sk-container-id-1 div.sk-dashed-wrapped {\n",
       "  border: 1px dashed var(--sklearn-color-line);\n",
       "  margin: 0 0.4em 0.5em 0.4em;\n",
       "  box-sizing: border-box;\n",
       "  padding-bottom: 0.4em;\n",
       "  background-color: var(--sklearn-color-background);\n",
       "}\n",
       "\n",
       "#sk-container-id-1 div.sk-container {\n",
       "  /* jupyter's `normalize.less` sets `[hidden] { display: none; }`\n",
       "     but bootstrap.min.css set `[hidden] { display: none !important; }`\n",
       "     so we also need the `!important` here to be able to override the\n",
       "     default hidden behavior on the sphinx rendered scikit-learn.org.\n",
       "     See: https://github.com/scikit-learn/scikit-learn/issues/21755 */\n",
       "  display: inline-block !important;\n",
       "  position: relative;\n",
       "}\n",
       "\n",
       "#sk-container-id-1 div.sk-text-repr-fallback {\n",
       "  display: none;\n",
       "}\n",
       "\n",
       "div.sk-parallel-item,\n",
       "div.sk-serial,\n",
       "div.sk-item {\n",
       "  /* draw centered vertical line to link estimators */\n",
       "  background-image: linear-gradient(var(--sklearn-color-text-on-default-background), var(--sklearn-color-text-on-default-background));\n",
       "  background-size: 2px 100%;\n",
       "  background-repeat: no-repeat;\n",
       "  background-position: center center;\n",
       "}\n",
       "\n",
       "/* Parallel-specific style estimator block */\n",
       "\n",
       "#sk-container-id-1 div.sk-parallel-item::after {\n",
       "  content: \"\";\n",
       "  width: 100%;\n",
       "  border-bottom: 2px solid var(--sklearn-color-text-on-default-background);\n",
       "  flex-grow: 1;\n",
       "}\n",
       "\n",
       "#sk-container-id-1 div.sk-parallel {\n",
       "  display: flex;\n",
       "  align-items: stretch;\n",
       "  justify-content: center;\n",
       "  background-color: var(--sklearn-color-background);\n",
       "  position: relative;\n",
       "}\n",
       "\n",
       "#sk-container-id-1 div.sk-parallel-item {\n",
       "  display: flex;\n",
       "  flex-direction: column;\n",
       "}\n",
       "\n",
       "#sk-container-id-1 div.sk-parallel-item:first-child::after {\n",
       "  align-self: flex-end;\n",
       "  width: 50%;\n",
       "}\n",
       "\n",
       "#sk-container-id-1 div.sk-parallel-item:last-child::after {\n",
       "  align-self: flex-start;\n",
       "  width: 50%;\n",
       "}\n",
       "\n",
       "#sk-container-id-1 div.sk-parallel-item:only-child::after {\n",
       "  width: 0;\n",
       "}\n",
       "\n",
       "/* Serial-specific style estimator block */\n",
       "\n",
       "#sk-container-id-1 div.sk-serial {\n",
       "  display: flex;\n",
       "  flex-direction: column;\n",
       "  align-items: center;\n",
       "  background-color: var(--sklearn-color-background);\n",
       "  padding-right: 1em;\n",
       "  padding-left: 1em;\n",
       "}\n",
       "\n",
       "\n",
       "/* Toggleable style: style used for estimator/Pipeline/ColumnTransformer box that is\n",
       "clickable and can be expanded/collapsed.\n",
       "- Pipeline and ColumnTransformer use this feature and define the default style\n",
       "- Estimators will overwrite some part of the style using the `sk-estimator` class\n",
       "*/\n",
       "\n",
       "/* Pipeline and ColumnTransformer style (default) */\n",
       "\n",
       "#sk-container-id-1 div.sk-toggleable {\n",
       "  /* Default theme specific background. It is overwritten whether we have a\n",
       "  specific estimator or a Pipeline/ColumnTransformer */\n",
       "  background-color: var(--sklearn-color-background);\n",
       "}\n",
       "\n",
       "/* Toggleable label */\n",
       "#sk-container-id-1 label.sk-toggleable__label {\n",
       "  cursor: pointer;\n",
       "  display: flex;\n",
       "  width: 100%;\n",
       "  margin-bottom: 0;\n",
       "  padding: 0.5em;\n",
       "  box-sizing: border-box;\n",
       "  text-align: center;\n",
       "  align-items: start;\n",
       "  justify-content: space-between;\n",
       "  gap: 0.5em;\n",
       "}\n",
       "\n",
       "#sk-container-id-1 label.sk-toggleable__label .caption {\n",
       "  font-size: 0.6rem;\n",
       "  font-weight: lighter;\n",
       "  color: var(--sklearn-color-text-muted);\n",
       "}\n",
       "\n",
       "#sk-container-id-1 label.sk-toggleable__label-arrow:before {\n",
       "  /* Arrow on the left of the label */\n",
       "  content: \"▸\";\n",
       "  float: left;\n",
       "  margin-right: 0.25em;\n",
       "  color: var(--sklearn-color-icon);\n",
       "}\n",
       "\n",
       "#sk-container-id-1 label.sk-toggleable__label-arrow:hover:before {\n",
       "  color: var(--sklearn-color-text);\n",
       "}\n",
       "\n",
       "/* Toggleable content - dropdown */\n",
       "\n",
       "#sk-container-id-1 div.sk-toggleable__content {\n",
       "  display: none;\n",
       "  text-align: left;\n",
       "  /* unfitted */\n",
       "  background-color: var(--sklearn-color-unfitted-level-0);\n",
       "}\n",
       "\n",
       "#sk-container-id-1 div.sk-toggleable__content.fitted {\n",
       "  /* fitted */\n",
       "  background-color: var(--sklearn-color-fitted-level-0);\n",
       "}\n",
       "\n",
       "#sk-container-id-1 div.sk-toggleable__content pre {\n",
       "  margin: 0.2em;\n",
       "  border-radius: 0.25em;\n",
       "  color: var(--sklearn-color-text);\n",
       "  /* unfitted */\n",
       "  background-color: var(--sklearn-color-unfitted-level-0);\n",
       "}\n",
       "\n",
       "#sk-container-id-1 div.sk-toggleable__content.fitted pre {\n",
       "  /* unfitted */\n",
       "  background-color: var(--sklearn-color-fitted-level-0);\n",
       "}\n",
       "\n",
       "#sk-container-id-1 input.sk-toggleable__control:checked~div.sk-toggleable__content {\n",
       "  /* Expand drop-down */\n",
       "  display: block;\n",
       "  width: 100%;\n",
       "  overflow: visible;\n",
       "}\n",
       "\n",
       "#sk-container-id-1 input.sk-toggleable__control:checked~label.sk-toggleable__label-arrow:before {\n",
       "  content: \"▾\";\n",
       "}\n",
       "\n",
       "/* Pipeline/ColumnTransformer-specific style */\n",
       "\n",
       "#sk-container-id-1 div.sk-label input.sk-toggleable__control:checked~label.sk-toggleable__label {\n",
       "  color: var(--sklearn-color-text);\n",
       "  background-color: var(--sklearn-color-unfitted-level-2);\n",
       "}\n",
       "\n",
       "#sk-container-id-1 div.sk-label.fitted input.sk-toggleable__control:checked~label.sk-toggleable__label {\n",
       "  background-color: var(--sklearn-color-fitted-level-2);\n",
       "}\n",
       "\n",
       "/* Estimator-specific style */\n",
       "\n",
       "/* Colorize estimator box */\n",
       "#sk-container-id-1 div.sk-estimator input.sk-toggleable__control:checked~label.sk-toggleable__label {\n",
       "  /* unfitted */\n",
       "  background-color: var(--sklearn-color-unfitted-level-2);\n",
       "}\n",
       "\n",
       "#sk-container-id-1 div.sk-estimator.fitted input.sk-toggleable__control:checked~label.sk-toggleable__label {\n",
       "  /* fitted */\n",
       "  background-color: var(--sklearn-color-fitted-level-2);\n",
       "}\n",
       "\n",
       "#sk-container-id-1 div.sk-label label.sk-toggleable__label,\n",
       "#sk-container-id-1 div.sk-label label {\n",
       "  /* The background is the default theme color */\n",
       "  color: var(--sklearn-color-text-on-default-background);\n",
       "}\n",
       "\n",
       "/* On hover, darken the color of the background */\n",
       "#sk-container-id-1 div.sk-label:hover label.sk-toggleable__label {\n",
       "  color: var(--sklearn-color-text);\n",
       "  background-color: var(--sklearn-color-unfitted-level-2);\n",
       "}\n",
       "\n",
       "/* Label box, darken color on hover, fitted */\n",
       "#sk-container-id-1 div.sk-label.fitted:hover label.sk-toggleable__label.fitted {\n",
       "  color: var(--sklearn-color-text);\n",
       "  background-color: var(--sklearn-color-fitted-level-2);\n",
       "}\n",
       "\n",
       "/* Estimator label */\n",
       "\n",
       "#sk-container-id-1 div.sk-label label {\n",
       "  font-family: monospace;\n",
       "  font-weight: bold;\n",
       "  display: inline-block;\n",
       "  line-height: 1.2em;\n",
       "}\n",
       "\n",
       "#sk-container-id-1 div.sk-label-container {\n",
       "  text-align: center;\n",
       "}\n",
       "\n",
       "/* Estimator-specific */\n",
       "#sk-container-id-1 div.sk-estimator {\n",
       "  font-family: monospace;\n",
       "  border: 1px dotted var(--sklearn-color-border-box);\n",
       "  border-radius: 0.25em;\n",
       "  box-sizing: border-box;\n",
       "  margin-bottom: 0.5em;\n",
       "  /* unfitted */\n",
       "  background-color: var(--sklearn-color-unfitted-level-0);\n",
       "}\n",
       "\n",
       "#sk-container-id-1 div.sk-estimator.fitted {\n",
       "  /* fitted */\n",
       "  background-color: var(--sklearn-color-fitted-level-0);\n",
       "}\n",
       "\n",
       "/* on hover */\n",
       "#sk-container-id-1 div.sk-estimator:hover {\n",
       "  /* unfitted */\n",
       "  background-color: var(--sklearn-color-unfitted-level-2);\n",
       "}\n",
       "\n",
       "#sk-container-id-1 div.sk-estimator.fitted:hover {\n",
       "  /* fitted */\n",
       "  background-color: var(--sklearn-color-fitted-level-2);\n",
       "}\n",
       "\n",
       "/* Specification for estimator info (e.g. \"i\" and \"?\") */\n",
       "\n",
       "/* Common style for \"i\" and \"?\" */\n",
       "\n",
       ".sk-estimator-doc-link,\n",
       "a:link.sk-estimator-doc-link,\n",
       "a:visited.sk-estimator-doc-link {\n",
       "  float: right;\n",
       "  font-size: smaller;\n",
       "  line-height: 1em;\n",
       "  font-family: monospace;\n",
       "  background-color: var(--sklearn-color-background);\n",
       "  border-radius: 1em;\n",
       "  height: 1em;\n",
       "  width: 1em;\n",
       "  text-decoration: none !important;\n",
       "  margin-left: 0.5em;\n",
       "  text-align: center;\n",
       "  /* unfitted */\n",
       "  border: var(--sklearn-color-unfitted-level-1) 1pt solid;\n",
       "  color: var(--sklearn-color-unfitted-level-1);\n",
       "}\n",
       "\n",
       ".sk-estimator-doc-link.fitted,\n",
       "a:link.sk-estimator-doc-link.fitted,\n",
       "a:visited.sk-estimator-doc-link.fitted {\n",
       "  /* fitted */\n",
       "  border: var(--sklearn-color-fitted-level-1) 1pt solid;\n",
       "  color: var(--sklearn-color-fitted-level-1);\n",
       "}\n",
       "\n",
       "/* On hover */\n",
       "div.sk-estimator:hover .sk-estimator-doc-link:hover,\n",
       ".sk-estimator-doc-link:hover,\n",
       "div.sk-label-container:hover .sk-estimator-doc-link:hover,\n",
       ".sk-estimator-doc-link:hover {\n",
       "  /* unfitted */\n",
       "  background-color: var(--sklearn-color-unfitted-level-3);\n",
       "  color: var(--sklearn-color-background);\n",
       "  text-decoration: none;\n",
       "}\n",
       "\n",
       "div.sk-estimator.fitted:hover .sk-estimator-doc-link.fitted:hover,\n",
       ".sk-estimator-doc-link.fitted:hover,\n",
       "div.sk-label-container:hover .sk-estimator-doc-link.fitted:hover,\n",
       ".sk-estimator-doc-link.fitted:hover {\n",
       "  /* fitted */\n",
       "  background-color: var(--sklearn-color-fitted-level-3);\n",
       "  color: var(--sklearn-color-background);\n",
       "  text-decoration: none;\n",
       "}\n",
       "\n",
       "/* Span, style for the box shown on hovering the info icon */\n",
       ".sk-estimator-doc-link span {\n",
       "  display: none;\n",
       "  z-index: 9999;\n",
       "  position: relative;\n",
       "  font-weight: normal;\n",
       "  right: .2ex;\n",
       "  padding: .5ex;\n",
       "  margin: .5ex;\n",
       "  width: min-content;\n",
       "  min-width: 20ex;\n",
       "  max-width: 50ex;\n",
       "  color: var(--sklearn-color-text);\n",
       "  box-shadow: 2pt 2pt 4pt #999;\n",
       "  /* unfitted */\n",
       "  background: var(--sklearn-color-unfitted-level-0);\n",
       "  border: .5pt solid var(--sklearn-color-unfitted-level-3);\n",
       "}\n",
       "\n",
       ".sk-estimator-doc-link.fitted span {\n",
       "  /* fitted */\n",
       "  background: var(--sklearn-color-fitted-level-0);\n",
       "  border: var(--sklearn-color-fitted-level-3);\n",
       "}\n",
       "\n",
       ".sk-estimator-doc-link:hover span {\n",
       "  display: block;\n",
       "}\n",
       "\n",
       "/* \"?\"-specific style due to the `<a>` HTML tag */\n",
       "\n",
       "#sk-container-id-1 a.estimator_doc_link {\n",
       "  float: right;\n",
       "  font-size: 1rem;\n",
       "  line-height: 1em;\n",
       "  font-family: monospace;\n",
       "  background-color: var(--sklearn-color-background);\n",
       "  border-radius: 1rem;\n",
       "  height: 1rem;\n",
       "  width: 1rem;\n",
       "  text-decoration: none;\n",
       "  /* unfitted */\n",
       "  color: var(--sklearn-color-unfitted-level-1);\n",
       "  border: var(--sklearn-color-unfitted-level-1) 1pt solid;\n",
       "}\n",
       "\n",
       "#sk-container-id-1 a.estimator_doc_link.fitted {\n",
       "  /* fitted */\n",
       "  border: var(--sklearn-color-fitted-level-1) 1pt solid;\n",
       "  color: var(--sklearn-color-fitted-level-1);\n",
       "}\n",
       "\n",
       "/* On hover */\n",
       "#sk-container-id-1 a.estimator_doc_link:hover {\n",
       "  /* unfitted */\n",
       "  background-color: var(--sklearn-color-unfitted-level-3);\n",
       "  color: var(--sklearn-color-background);\n",
       "  text-decoration: none;\n",
       "}\n",
       "\n",
       "#sk-container-id-1 a.estimator_doc_link.fitted:hover {\n",
       "  /* fitted */\n",
       "  background-color: var(--sklearn-color-fitted-level-3);\n",
       "}\n",
       "\n",
       ".estimator-table summary {\n",
       "    padding: .5rem;\n",
       "    font-family: monospace;\n",
       "    cursor: pointer;\n",
       "}\n",
       "\n",
       ".estimator-table details[open] {\n",
       "    padding-left: 0.1rem;\n",
       "    padding-right: 0.1rem;\n",
       "    padding-bottom: 0.3rem;\n",
       "}\n",
       "\n",
       ".estimator-table .parameters-table {\n",
       "    margin-left: auto !important;\n",
       "    margin-right: auto !important;\n",
       "}\n",
       "\n",
       ".estimator-table .parameters-table tr:nth-child(odd) {\n",
       "    background-color: #fff;\n",
       "}\n",
       "\n",
       ".estimator-table .parameters-table tr:nth-child(even) {\n",
       "    background-color: #f6f6f6;\n",
       "}\n",
       "\n",
       ".estimator-table .parameters-table tr:hover {\n",
       "    background-color: #e0e0e0;\n",
       "}\n",
       "\n",
       ".estimator-table table td {\n",
       "    border: 1px solid rgba(106, 105, 104, 0.232);\n",
       "}\n",
       "\n",
       ".user-set td {\n",
       "    color:rgb(255, 94, 0);\n",
       "    text-align: left;\n",
       "}\n",
       "\n",
       ".user-set td.value pre {\n",
       "    color:rgb(255, 94, 0) !important;\n",
       "    background-color: transparent !important;\n",
       "}\n",
       "\n",
       ".default td {\n",
       "    color: black;\n",
       "    text-align: left;\n",
       "}\n",
       "\n",
       ".user-set td i,\n",
       ".default td i {\n",
       "    color: black;\n",
       "}\n",
       "\n",
       ".copy-paste-icon {\n",
       "    background-image: url(data:image/svg+xml;base64,PHN2ZyB4bWxucz0iaHR0cDovL3d3dy53My5vcmcvMjAwMC9zdmciIHZpZXdCb3g9IjAgMCA0NDggNTEyIj48IS0tIUZvbnQgQXdlc29tZSBGcmVlIDYuNy4yIGJ5IEBmb250YXdlc29tZSAtIGh0dHBzOi8vZm9udGF3ZXNvbWUuY29tIExpY2Vuc2UgLSBodHRwczovL2ZvbnRhd2Vzb21lLmNvbS9saWNlbnNlL2ZyZWUgQ29weXJpZ2h0IDIwMjUgRm9udGljb25zLCBJbmMuLS0+PHBhdGggZD0iTTIwOCAwTDMzMi4xIDBjMTIuNyAwIDI0LjkgNS4xIDMzLjkgMTQuMWw2Ny45IDY3LjljOSA5IDE0LjEgMjEuMiAxNC4xIDMzLjlMNDQ4IDMzNmMwIDI2LjUtMjEuNSA0OC00OCA0OGwtMTkyIDBjLTI2LjUgMC00OC0yMS41LTQ4LTQ4bDAtMjg4YzAtMjYuNSAyMS41LTQ4IDQ4LTQ4ek00OCAxMjhsODAgMCAwIDY0LTY0IDAgMCAyNTYgMTkyIDAgMC0zMiA2NCAwIDAgNDhjMCAyNi41LTIxLjUgNDgtNDggNDhMNDggNTEyYy0yNi41IDAtNDgtMjEuNS00OC00OEwwIDE3NmMwLTI2LjUgMjEuNS00OCA0OC00OHoiLz48L3N2Zz4=);\n",
       "    background-repeat: no-repeat;\n",
       "    background-size: 14px 14px;\n",
       "    background-position: 0;\n",
       "    display: inline-block;\n",
       "    width: 14px;\n",
       "    height: 14px;\n",
       "    cursor: pointer;\n",
       "}\n",
       "</style><body><div id=\"sk-container-id-1\" class=\"sk-top-container\"><div class=\"sk-text-repr-fallback\"><pre>LinearRegression()</pre><b>In a Jupyter environment, please rerun this cell to show the HTML representation or trust the notebook. <br />On GitHub, the HTML representation is unable to render, please try loading this page with nbviewer.org.</b></div><div class=\"sk-container\" hidden><div class=\"sk-item\"><div class=\"sk-estimator fitted sk-toggleable\"><input class=\"sk-toggleable__control sk-hidden--visually\" id=\"sk-estimator-id-1\" type=\"checkbox\" checked><label for=\"sk-estimator-id-1\" class=\"sk-toggleable__label fitted sk-toggleable__label-arrow\"><div><div>LinearRegression</div></div><div><a class=\"sk-estimator-doc-link fitted\" rel=\"noreferrer\" target=\"_blank\" href=\"https://scikit-learn.org/1.7/modules/generated/sklearn.linear_model.LinearRegression.html\">?<span>Documentation for LinearRegression</span></a><span class=\"sk-estimator-doc-link fitted\">i<span>Fitted</span></span></div></label><div class=\"sk-toggleable__content fitted\" data-param-prefix=\"\">\n",
       "        <div class=\"estimator-table\">\n",
       "            <details>\n",
       "                <summary>Parameters</summary>\n",
       "                <table class=\"parameters-table\">\n",
       "                  <tbody>\n",
       "                    \n",
       "        <tr class=\"default\">\n",
       "            <td><i class=\"copy-paste-icon\"\n",
       "                 onclick=\"copyToClipboard('fit_intercept',\n",
       "                          this.parentElement.nextElementSibling)\"\n",
       "            ></i></td>\n",
       "            <td class=\"param\">fit_intercept&nbsp;</td>\n",
       "            <td class=\"value\">True</td>\n",
       "        </tr>\n",
       "    \n",
       "\n",
       "        <tr class=\"default\">\n",
       "            <td><i class=\"copy-paste-icon\"\n",
       "                 onclick=\"copyToClipboard('copy_X',\n",
       "                          this.parentElement.nextElementSibling)\"\n",
       "            ></i></td>\n",
       "            <td class=\"param\">copy_X&nbsp;</td>\n",
       "            <td class=\"value\">True</td>\n",
       "        </tr>\n",
       "    \n",
       "\n",
       "        <tr class=\"default\">\n",
       "            <td><i class=\"copy-paste-icon\"\n",
       "                 onclick=\"copyToClipboard('tol',\n",
       "                          this.parentElement.nextElementSibling)\"\n",
       "            ></i></td>\n",
       "            <td class=\"param\">tol&nbsp;</td>\n",
       "            <td class=\"value\">1e-06</td>\n",
       "        </tr>\n",
       "    \n",
       "\n",
       "        <tr class=\"default\">\n",
       "            <td><i class=\"copy-paste-icon\"\n",
       "                 onclick=\"copyToClipboard('n_jobs',\n",
       "                          this.parentElement.nextElementSibling)\"\n",
       "            ></i></td>\n",
       "            <td class=\"param\">n_jobs&nbsp;</td>\n",
       "            <td class=\"value\">None</td>\n",
       "        </tr>\n",
       "    \n",
       "\n",
       "        <tr class=\"default\">\n",
       "            <td><i class=\"copy-paste-icon\"\n",
       "                 onclick=\"copyToClipboard('positive',\n",
       "                          this.parentElement.nextElementSibling)\"\n",
       "            ></i></td>\n",
       "            <td class=\"param\">positive&nbsp;</td>\n",
       "            <td class=\"value\">False</td>\n",
       "        </tr>\n",
       "    \n",
       "                  </tbody>\n",
       "                </table>\n",
       "            </details>\n",
       "        </div>\n",
       "    </div></div></div></div></div><script>function copyToClipboard(text, element) {\n",
       "    // Get the parameter prefix from the closest toggleable content\n",
       "    const toggleableContent = element.closest('.sk-toggleable__content');\n",
       "    const paramPrefix = toggleableContent ? toggleableContent.dataset.paramPrefix : '';\n",
       "    const fullParamName = paramPrefix ? `${paramPrefix}${text}` : text;\n",
       "\n",
       "    const originalStyle = element.style;\n",
       "    const computedStyle = window.getComputedStyle(element);\n",
       "    const originalWidth = computedStyle.width;\n",
       "    const originalHTML = element.innerHTML.replace('Copied!', '');\n",
       "\n",
       "    navigator.clipboard.writeText(fullParamName)\n",
       "        .then(() => {\n",
       "            element.style.width = originalWidth;\n",
       "            element.style.color = 'green';\n",
       "            element.innerHTML = \"Copied!\";\n",
       "\n",
       "            setTimeout(() => {\n",
       "                element.innerHTML = originalHTML;\n",
       "                element.style = originalStyle;\n",
       "            }, 2000);\n",
       "        })\n",
       "        .catch(err => {\n",
       "            console.error('Failed to copy:', err);\n",
       "            element.style.color = 'red';\n",
       "            element.innerHTML = \"Failed!\";\n",
       "            setTimeout(() => {\n",
       "                element.innerHTML = originalHTML;\n",
       "                element.style = originalStyle;\n",
       "            }, 2000);\n",
       "        });\n",
       "    return false;\n",
       "}\n",
       "\n",
       "document.querySelectorAll('.fa-regular.fa-copy').forEach(function(element) {\n",
       "    const toggleableContent = element.closest('.sk-toggleable__content');\n",
       "    const paramPrefix = toggleableContent ? toggleableContent.dataset.paramPrefix : '';\n",
       "    const paramName = element.parentElement.nextElementSibling.textContent.trim();\n",
       "    const fullParamName = paramPrefix ? `${paramPrefix}${paramName}` : paramName;\n",
       "\n",
       "    element.setAttribute('title', fullParamName);\n",
       "});\n",
       "</script></body>"
      ],
      "text/plain": [
       "LinearRegression()"
      ]
     },
     "execution_count": 24,
     "metadata": {},
     "output_type": "execute_result"
    }
   ],
   "source": [
    "model.fit(x,y)"
   ]
  },
  {
   "cell_type": "code",
   "execution_count": 25,
   "id": "49c04e0e-8532-41f9-a451-1d5f23014faa",
   "metadata": {},
   "outputs": [
    {
     "data": {
      "text/plain": [
       "np.float64(30.677335852151653)"
      ]
     },
     "execution_count": 25,
     "metadata": {},
     "output_type": "execute_result"
    }
   ],
   "source": [
    "model.intercept_"
   ]
  },
  {
   "cell_type": "code",
   "execution_count": 26,
   "id": "06e25357-3cbf-4a1a-9e24-bf96dd0807b7",
   "metadata": {},
   "outputs": [
    {
     "data": {
      "text/plain": [
       "array([-0.20544372, -0.33605084,  0.39562692,  0.40057409])"
      ]
     },
     "execution_count": 26,
     "metadata": {},
     "output_type": "execute_result"
    }
   ],
   "source": [
    "model.coef_"
   ]
  },
  {
   "cell_type": "code",
   "execution_count": 27,
   "id": "51b1cd37-2ae6-4c1c-8d0e-06b957bb8e54",
   "metadata": {},
   "outputs": [],
   "source": [
    "y_pred = model.predict(x)"
   ]
  },
  {
   "cell_type": "code",
   "execution_count": 28,
   "id": "448a9a0f-80bc-4394-8394-4a31cf01179e",
   "metadata": {},
   "outputs": [
    {
     "data": {
      "text/plain": [
       "array([43.44193477, 42.38879289, 42.27934147, 42.53835981, 42.17264802,\n",
       "       43.02061916, 42.32536062, 48.07621852, 48.28120247, 40.79122814,\n",
       "       41.52153227, 47.80956747, 39.95980269, 41.52757889, 41.76632332,\n",
       "       41.6181448 , 41.15094046, 47.98605515, 41.30861046, 37.87127922,\n",
       "       38.57706414, 37.35199705, 37.89770285, 39.5625144 , 39.93380662,\n",
       "       46.73870908, 35.48165898, 38.78152504, 38.24861192, 36.00285298,\n",
       "       34.84603989, 37.21630246, 37.13919796, 34.82541399, 37.22361389,\n",
       "       37.53950097, 39.27144845, 38.24219888, 38.54286458, 35.9391722 ,\n",
       "       34.2129755 , 35.36313259, 37.50473376, 38.07998482, 35.79651664,\n",
       "       36.2613377 , 34.21826465, 35.59393404, 36.91805291, 33.31108154,\n",
       "       33.21313413, 33.3023649 , 29.19864884, 27.52358579, 28.3207133 ,\n",
       "       28.56722621, 35.81583602, 33.02108459, 35.37334971, 32.29909503,\n",
       "       29.87685849, 28.76093817, 25.14188416, 26.47040896, 25.97651933,\n",
       "       36.35652478, 26.0975912 , 23.6416178 , 24.39887199, 20.21195358,\n",
       "       27.80846468, 22.44206834, 23.07667801, 18.717314  , 23.84934696,\n",
       "       21.07461275, 21.28209598, 17.89904991, 26.13645315, 12.31661154,\n",
       "       15.55948057])"
      ]
     },
     "execution_count": 28,
     "metadata": {},
     "output_type": "execute_result"
    }
   ],
   "source": [
    "y_pred"
   ]
  },
  {
   "cell_type": "code",
   "execution_count": 29,
   "id": "be08a960-c9aa-4b09-8ce2-f1826f3ee4cb",
   "metadata": {},
   "outputs": [
    {
     "data": {
      "text/plain": [
       "3.267968285420799"
      ]
     },
     "execution_count": 29,
     "metadata": {},
     "output_type": "execute_result"
    }
   ],
   "source": [
    "mean_absolute_error(cars['MPG'],y_pred)"
   ]
  },
  {
   "cell_type": "code",
   "execution_count": 30,
   "id": "4765873f-fc16-49dd-b5ae-19ed51273abd",
   "metadata": {},
   "outputs": [
    {
     "data": {
      "text/plain": [
       "0.7705372737359844"
      ]
     },
     "execution_count": 30,
     "metadata": {},
     "output_type": "execute_result"
    }
   ],
   "source": [
    "r2_score(cars['MPG'],y_pred)"
   ]
  },
  {
   "cell_type": "markdown",
   "id": "dbdbe053-aac5-4654-aff2-9a2039ee4dd2",
   "metadata": {},
   "source": [
    "## Homoscadascity check"
   ]
  },
  {
   "cell_type": "code",
   "execution_count": 31,
   "id": "235039ab-7dba-403c-8780-5416cc0b2eb5",
   "metadata": {},
   "outputs": [],
   "source": [
    "errors = y - y_pred"
   ]
  },
  {
   "cell_type": "code",
   "execution_count": 32,
   "id": "fedcad11-7d4e-441d-920e-432cca24650c",
   "metadata": {},
   "outputs": [
    {
     "data": {
      "text/plain": [
       "0     10.258747\n",
       "1      7.624608\n",
       "2      7.734060\n",
       "3      3.157963\n",
       "4      8.331584\n",
       "        ...    \n",
       "76    15.617904\n",
       "77     1.298838\n",
       "78     7.863547\n",
       "79     7.517122\n",
       "80    -3.458218\n",
       "Name: MPG, Length: 81, dtype: float64"
      ]
     },
     "execution_count": 32,
     "metadata": {},
     "output_type": "execute_result"
    }
   ],
   "source": [
    "errors"
   ]
  },
  {
   "cell_type": "code",
   "execution_count": 33,
   "id": "c7055639-eaa6-422a-b55c-913382ba7e62",
   "metadata": {},
   "outputs": [
    {
     "data": {
      "image/png": "[encoded data removed]",
      "text/plain": [
       "<Figure size 640x480 with 1 Axes>"
      ]
     },
     "metadata": {},
     "output_type": "display_data"
    }
   ],
   "source": [
    "plt.scatter(x= cars['MPG'],y = errors)\n",
    "plt.show()"
   ]
  },
  {
   "cell_type": "markdown",
   "id": "14812e85-a9d8-4aab-bdae-0bcba44a1e44",
   "metadata": {},
   "source": [
    "## The data is spread over all the areas so the homoscadascity is failed"
   ]
  },
  {
   "cell_type": "markdown",
   "id": "887e9cc6-a761-49b0-be27-f83516756875",
   "metadata": {},
   "source": [
    "## the variance(spread) is all over the range so the homoscadascity is failed"
   ]
  },
  {
   "cell_type": "markdown",
   "id": "f34e071e-63e1-45dd-99ea-596f118a97e2",
   "metadata": {},
   "source": [
    "## Zero residual error\n",
    "\n",
    "## All the points should fit on the line"
   ]
  },
  {
   "cell_type": "code",
   "execution_count": 34,
   "id": "39554d26-16cc-4555-b441-7f20728acf0a",
   "metadata": {},
   "outputs": [
    {
     "data": {
      "text/plain": [
       "<matplotlib.collections.PathCollection at 0x124cfa330>"
      ]
     },
     "execution_count": 34,
     "metadata": {},
     "output_type": "execute_result"
    },
    {
     "data": {
      "image/png": "[encoded data removed]",
      "text/plain": [
       "<Figure size 640x480 with 1 Axes>"
      ]
     },
     "metadata": {},
     "output_type": "display_data"
    }
   ],
   "source": [
    "plt.scatter(x= cars['MPG'],y=errors)"
   ]
  },
  {
   "cell_type": "markdown",
   "id": "90437b24-892f-4552-9a7e-0d44598d41dd",
   "metadata": {},
   "source": [
    "## here the model is underperformed so we can come to know that the datapoints are not in model line"
   ]
  },
  {
   "cell_type": "markdown",
   "id": "3ff3317f-6b07-456b-933d-4224deb68e89",
   "metadata": {},
   "source": [
    "# Day 2"
   ]
  },
  {
   "cell_type": "markdown",
   "id": "fcd14184-8bcb-4df0-a19f-55b1e95def59",
   "metadata": {},
   "source": [
    "# Stats model"
   ]
  },
  {
   "cell_type": "code",
   "execution_count": 35,
   "id": "5815652b-55b7-4f14-9e85-107495934cbf",
   "metadata": {},
   "outputs": [
    {
     "name": "stdout",
     "output_type": "stream",
     "text": [
      "Collecting statsmodels\n",
      "  Downloading statsmodels-0.14.5-cp312-cp312-macosx_11_0_arm64.whl.metadata (9.5 kB)\n",
      "Requirement already satisfied: numpy<3,>=1.22.3 in /Users/akash/ProIT/Gen_ai_workspace/ven1/lib/python3.12/site-packages (from statsmodels) (2.3.2)\n",
      "Requirement already satisfied: scipy!=1.9.2,>=1.8 in /Users/akash/ProIT/Gen_ai_workspace/ven1/lib/python3.12/site-packages (from statsmodels) (1.16.1)\n",
      "Requirement already satisfied: pandas!=2.1.0,>=1.4 in /Users/akash/ProIT/Gen_ai_workspace/ven1/lib/python3.12/site-packages (from statsmodels) (2.3.2)\n",
      "Collecting patsy>=0.5.6 (from statsmodels)\n",
      "  Using cached patsy-1.0.1-py2.py3-none-any.whl.metadata (3.3 kB)\n",
      "Requirement already satisfied: packaging>=21.3 in /Users/akash/ProIT/Gen_ai_workspace/ven1/lib/python3.12/site-packages (from statsmodels) (25.0)\n",
      "Requirement already satisfied: python-dateutil>=2.8.2 in /Users/akash/ProIT/Gen_ai_workspace/ven1/lib/python3.12/site-packages (from pandas!=2.1.0,>=1.4->statsmodels) (2.9.0.post0)\n",
      "Requirement already satisfied: pytz>=2020.1 in /Users/akash/ProIT/Gen_ai_workspace/ven1/lib/python3.12/site-packages (from pandas!=2.1.0,>=1.4->statsmodels) (2025.2)\n",
      "Requirement already satisfied: tzdata>=2022.7 in /Users/akash/ProIT/Gen_ai_workspace/ven1/lib/python3.12/site-packages (from pandas!=2.1.0,>=1.4->statsmodels) (2025.2)\n",
      "Requirement already satisfied: six>=1.5 in /Users/akash/ProIT/Gen_ai_workspace/ven1/lib/python3.12/site-packages (from python-dateutil>=2.8.2->pandas!=2.1.0,>=1.4->statsmodels) (1.17.0)\n",
      "Downloading statsmodels-0.14.5-cp312-cp312-macosx_11_0_arm64.whl (9.7 MB)\n",
      "\u001b[2K   \u001b[90m━━━━━━━━━━━━━━━━━━━━━━━━━━━━━━━━━━━━━━━━\u001b[0m \u001b[32m9.7/9.7 MB\u001b[0m \u001b[31m1.7 MB/s\u001b[0m eta \u001b[36m0:00:00\u001b[0ma \u001b[36m0:00:01\u001b[0m\n",
      "\u001b[?25hUsing cached patsy-1.0.1-py2.py3-none-any.whl (232 kB)\n",
      "Installing collected packages: patsy, statsmodels\n",
      "\u001b[2K   \u001b[90m━━━━━━━━━━━━━━━━━━━━━━━━━━━━━━━━━━━━━━━━\u001b[0m \u001b[32m2/2\u001b[0m [statsmodels]\u001b[0m [statsmodels]\n",
      "\u001b[1A\u001b[2KSuccessfully installed patsy-1.0.1 statsmodels-0.14.5\n"
     ]
    }
   ],
   "source": [
    "!python3 -m pip install statsmodels"
   ]
  },
  {
   "cell_type": "code",
   "execution_count": 36,
   "id": "5da048ff-3e7e-4410-94e6-cd193530cb4e",
   "metadata": {},
   "outputs": [],
   "source": [
    "import statsmodels.formula.api as smf"
   ]
  },
  {
   "cell_type": "code",
   "execution_count": 37,
   "id": "2623af46-1b57-4c3e-a7f2-51fb434444fb",
   "metadata": {},
   "outputs": [
    {
     "data": {
      "text/html": [
       "<div>\n",
       "<style scoped>\n",
       "    .dataframe tbody tr th:only-of-type {\n",
       "        vertical-align: middle;\n",
       "    }\n",
       "\n",
       "    .dataframe tbody tr th {\n",
       "        vertical-align: top;\n",
       "    }\n",
       "\n",
       "    .dataframe thead th {\n",
       "        text-align: right;\n",
       "    }\n",
       "</style>\n",
       "<table border=\"1\" class=\"dataframe\">\n",
       "  <thead>\n",
       "    <tr style=\"text-align: right;\">\n",
       "      <th></th>\n",
       "      <th>HP</th>\n",
       "      <th>MPG</th>\n",
       "      <th>VOL</th>\n",
       "      <th>SP</th>\n",
       "      <th>WT</th>\n",
       "    </tr>\n",
       "  </thead>\n",
       "  <tbody>\n",
       "    <tr>\n",
       "      <th>0</th>\n",
       "      <td>49</td>\n",
       "      <td>53.700681</td>\n",
       "      <td>89</td>\n",
       "      <td>104.185353</td>\n",
       "      <td>28.762059</td>\n",
       "    </tr>\n",
       "    <tr>\n",
       "      <th>1</th>\n",
       "      <td>55</td>\n",
       "      <td>50.013401</td>\n",
       "      <td>92</td>\n",
       "      <td>105.461264</td>\n",
       "      <td>30.466833</td>\n",
       "    </tr>\n",
       "    <tr>\n",
       "      <th>2</th>\n",
       "      <td>55</td>\n",
       "      <td>50.013401</td>\n",
       "      <td>92</td>\n",
       "      <td>105.461264</td>\n",
       "      <td>30.193597</td>\n",
       "    </tr>\n",
       "    <tr>\n",
       "      <th>3</th>\n",
       "      <td>70</td>\n",
       "      <td>45.696322</td>\n",
       "      <td>92</td>\n",
       "      <td>113.461264</td>\n",
       "      <td>30.632114</td>\n",
       "    </tr>\n",
       "    <tr>\n",
       "      <th>4</th>\n",
       "      <td>53</td>\n",
       "      <td>50.504232</td>\n",
       "      <td>92</td>\n",
       "      <td>104.461264</td>\n",
       "      <td>29.889149</td>\n",
       "    </tr>\n",
       "    <tr>\n",
       "      <th>...</th>\n",
       "      <td>...</td>\n",
       "      <td>...</td>\n",
       "      <td>...</td>\n",
       "      <td>...</td>\n",
       "      <td>...</td>\n",
       "    </tr>\n",
       "    <tr>\n",
       "      <th>76</th>\n",
       "      <td>322</td>\n",
       "      <td>36.900000</td>\n",
       "      <td>50</td>\n",
       "      <td>169.598513</td>\n",
       "      <td>16.132947</td>\n",
       "    </tr>\n",
       "    <tr>\n",
       "      <th>77</th>\n",
       "      <td>238</td>\n",
       "      <td>19.197888</td>\n",
       "      <td>115</td>\n",
       "      <td>150.576579</td>\n",
       "      <td>37.923113</td>\n",
       "    </tr>\n",
       "    <tr>\n",
       "      <th>78</th>\n",
       "      <td>263</td>\n",
       "      <td>34.000000</td>\n",
       "      <td>50</td>\n",
       "      <td>151.598513</td>\n",
       "      <td>15.769625</td>\n",
       "    </tr>\n",
       "    <tr>\n",
       "      <th>79</th>\n",
       "      <td>295</td>\n",
       "      <td>19.833733</td>\n",
       "      <td>119</td>\n",
       "      <td>167.944460</td>\n",
       "      <td>39.423099</td>\n",
       "    </tr>\n",
       "    <tr>\n",
       "      <th>80</th>\n",
       "      <td>236</td>\n",
       "      <td>12.101263</td>\n",
       "      <td>107</td>\n",
       "      <td>139.840817</td>\n",
       "      <td>34.948615</td>\n",
       "    </tr>\n",
       "  </tbody>\n",
       "</table>\n",
       "<p>81 rows × 5 columns</p>\n",
       "</div>"
      ],
      "text/plain": [
       "     HP        MPG  VOL          SP         WT\n",
       "0    49  53.700681   89  104.185353  28.762059\n",
       "1    55  50.013401   92  105.461264  30.466833\n",
       "2    55  50.013401   92  105.461264  30.193597\n",
       "3    70  45.696322   92  113.461264  30.632114\n",
       "4    53  50.504232   92  104.461264  29.889149\n",
       "..  ...        ...  ...         ...        ...\n",
       "76  322  36.900000   50  169.598513  16.132947\n",
       "77  238  19.197888  115  150.576579  37.923113\n",
       "78  263  34.000000   50  151.598513  15.769625\n",
       "79  295  19.833733  119  167.944460  39.423099\n",
       "80  236  12.101263  107  139.840817  34.948615\n",
       "\n",
       "[81 rows x 5 columns]"
      ]
     },
     "execution_count": 37,
     "metadata": {},
     "output_type": "execute_result"
    }
   ],
   "source": [
    "cars"
   ]
  },
  {
   "cell_type": "markdown",
   "id": "bb4ab0cb-dfa2-4976-bdde-6f75f2164b28",
   "metadata": {},
   "source": [
    "# AIC\n",
    "\n",
    "## The Akaike information criterion (AIC) is a metric used to compare the fit of different regression models.\n",
    "\n",
    "## The lower the AIC, the better the model fit."
   ]
  },
  {
   "cell_type": "markdown",
   "id": "943e678d-7f89-4b64-adbe-64bc88f80994",
   "metadata": {},
   "source": [
    "# BIC\n",
    "\n",
    "## The Bayesian Information Criterion (BIC) is a metric used to compare the goodness of fit of different regression models.\n",
    "\n",
    "## A lower BIC indicates a better balance between model fit and complexity\n",
    "\n",
    "\n"
   ]
  },
  {
   "cell_type": "markdown",
   "id": "5398fec3-102f-4572-b578-02d583f571f0",
   "metadata": {},
   "source": [
    "# rsquared\n",
    "\n",
    "## coefficient of determination\n",
    "\n",
    "## RSS = sum of squares of residuals\n",
    "\n",
    "## TSS = total sum of squares\n",
    "\n",
    "## The Higher the rsquared, the better the model fit."
   ]
  },
  {
   "cell_type": "markdown",
   "id": "a79e08c1-dc06-4465-a204-10daa30a3398",
   "metadata": {},
   "source": [
    "# Adjusted R-squared\n",
    "\n",
    "## is a modified version of R-squared that adjusts for predictors that are not significant in a regression model.\n",
    "\n",
    "## A lower adjusted R-squared indicates that the additional input variables are not adding value to the model.\n",
    "\n",
    "## The Higher the rsquared_adj, the better the model fit."
   ]
  },
  {
   "cell_type": "code",
   "execution_count": 38,
   "id": "b147b5e4-6d34-4da9-b01a-be5a1b0884d9",
   "metadata": {},
   "outputs": [
    {
     "name": "stdout",
     "output_type": "stream",
     "text": [
      "AIC 530.7452702659343\n",
      "BIC 535.5341685752792\n",
      "R-squared 0.5256806086282022\n",
      "Adjusted R-squared 0.5196765656994453\n"
     ]
    }
   ],
   "source": [
    "model_1 = smf.ols(formula = 'MPG~HP',data = cars).fit()\n",
    "\n",
    "print('AIC',model_1.aic)\n",
    "\n",
    "print('BIC',model_1.bic)\n",
    "\n",
    "print('R-squared',model_1.rsquared)\n",
    "\n",
    "print('Adjusted R-squared',model_1.rsquared_adj)"
   ]
  },
  {
   "cell_type": "code",
   "execution_count": 39,
   "id": "5f91d596-6edb-4ad4-a34b-5572cbed22fc",
   "metadata": {},
   "outputs": [
    {
     "name": "stdout",
     "output_type": "stream",
     "text": [
      "AIC 539.408199092848\n",
      "BIC 544.1970974021929\n",
      "R-squared 0.4721402334141218\n",
      "Adjusted R-squared 0.46545846421683224\n"
     ]
    }
   ],
   "source": [
    "model_1 = smf.ols(formula = 'MPG~SP',data = cars).fit()\n",
    "\n",
    "print('AIC',model_1.aic)\n",
    "\n",
    "print('BIC',model_1.bic)\n",
    "\n",
    "print('R-squared',model_1.rsquared)\n",
    "\n",
    "print('Adjusted R-squared',model_1.rsquared_adj)"
   ]
  },
  {
   "cell_type": "code",
   "execution_count": 40,
   "id": "1ec76ad8-0013-4a80-b696-0de2b87d1659",
   "metadata": {},
   "outputs": [
    {
     "name": "stdout",
     "output_type": "stream",
     "text": [
      "AIC 564.8358142145094\n",
      "BIC 569.6247125238542\n",
      "R-squared 0.2774751389270127\n",
      "Adjusted R-squared 0.2683292546096331\n"
     ]
    }
   ],
   "source": [
    "model_1 = smf.ols(formula = 'MPG~WT',data = cars).fit()\n",
    "\n",
    "print('AIC',model_1.aic)\n",
    "\n",
    "print('BIC',model_1.bic)\n",
    "\n",
    "print('R-squared',model_1.rsquared)\n",
    "\n",
    "print('Adjusted R-squared',model_1.rsquared_adj)"
   ]
  },
  {
   "cell_type": "code",
   "execution_count": 41,
   "id": "f0a669dc-14d3-4980-8758-1a209c3977df",
   "metadata": {},
   "outputs": [
    {
     "name": "stdout",
     "output_type": "stream",
     "text": [
      "AIC 564.5634161305575\n",
      "BIC 569.3523144399023\n",
      "R-squared 0.27990086511227064\n",
      "Adjusted R-squared 0.27078568618964105\n"
     ]
    }
   ],
   "source": [
    "model_1 = smf.ols(formula = 'MPG~VOL',data = cars).fit()\n",
    "\n",
    "print('AIC',model_1.aic)\n",
    "\n",
    "print('BIC',model_1.bic)\n",
    "\n",
    "print('R-squared',model_1.rsquared)\n",
    "\n",
    "print('Adjusted R-squared',model_1.rsquared_adj)"
   ]
  },
  {
   "cell_type": "code",
   "execution_count": 42,
   "id": "12f1f4aa-5bb9-4740-a6ec-3e919fc55fdd",
   "metadata": {},
   "outputs": [
    {
     "name": "stdout",
     "output_type": "stream",
     "text": [
      "AIC 564.5634161305575\n",
      "BIC 569.3523144399023\n",
      "R-squared 0.27990086511227064\n",
      "Adjusted R-squared 0.27078568618964105\n"
     ]
    }
   ],
   "source": [
    "model_F1 = smf.ols(formula = 'MPG~HP+SP+WT+VOL',data = cars).fit()\n",
    "\n",
    "print('AIC',model_1.aic)\n",
    "\n",
    "print('BIC',model_1.bic)\n",
    "\n",
    "print('R-squared',model_1.rsquared)\n",
    "\n",
    "print('Adjusted R-squared',model_1.rsquared_adj)"
   ]
  },
  {
   "cell_type": "code",
   "execution_count": 43,
   "id": "181417f7-dfac-4b4a-8819-83f511785c6d",
   "metadata": {},
   "outputs": [
    {
     "name": "stdout",
     "output_type": "stream",
     "text": [
      "AIC 531.5481466080848\n",
      "BIC 538.7314940721021\n",
      "R-squared 0.5326391712851648\n",
      "Adjusted R-squared 0.5206555602924767\n"
     ]
    }
   ],
   "source": [
    "model_1 = smf.ols(formula = 'MPG~HP+SP',data = cars).fit()\n",
    "\n",
    "print('AIC',model_1.aic)\n",
    "\n",
    "print('BIC',model_1.bic)\n",
    "\n",
    "print('R-squared',model_1.rsquared)\n",
    "\n",
    "print('Adjusted R-squared',model_1.rsquared_adj)"
   ]
  },
  {
   "cell_type": "code",
   "execution_count": 44,
   "id": "62be4d8b-260f-4c3e-b53a-6625258c2c78",
   "metadata": {},
   "outputs": [
    {
     "name": "stdout",
     "output_type": "stream",
     "text": [
      "AIC 481.16318962229695\n",
      "BIC 488.34653708631424\n",
      "R-squared 0.7490973272857682\n",
      "Adjusted R-squared 0.7426639254213008\n"
     ]
    }
   ],
   "source": [
    "model_1 = smf.ols(formula = 'MPG~HP+WT',data = cars).fit()\n",
    "\n",
    "print('AIC',model_1.aic)\n",
    "\n",
    "print('BIC',model_1.bic)\n",
    "\n",
    "print('R-squared',model_1.rsquared)\n",
    "\n",
    "print('Adjusted R-squared',model_1.rsquared_adj)"
   ]
  },
  {
   "cell_type": "code",
   "execution_count": 45,
   "id": "ad6f1914-7615-403f-b447-ab0eebfe33c6",
   "metadata": {},
   "outputs": [
    {
     "name": "stdout",
     "output_type": "stream",
     "text": [
      "AIC 480.65692370523766\n",
      "BIC 487.84027116925495\n",
      "R-squared 0.7506606277376423\n",
      "Adjusted R-squared 0.744267310500146\n"
     ]
    }
   ],
   "source": [
    "model_1 = smf.ols(formula = 'MPG~HP+VOL',data = cars).fit()\n",
    "\n",
    "print('AIC',model_1.aic)\n",
    "\n",
    "print('BIC',model_1.bic)\n",
    "\n",
    "print('R-squared',model_1.rsquared)\n",
    "\n",
    "print('Adjusted R-squared',model_1.rsquared_adj)"
   ]
  },
  {
   "cell_type": "code",
   "execution_count": 46,
   "id": "ad828c7e-d11e-478e-8648-9efc8328e480",
   "metadata": {},
   "outputs": [
    {
     "name": "stdout",
     "output_type": "stream",
     "text": [
      "AIC 500.2002027768268\n",
      "BIC 507.3835502408441\n",
      "R-squared 0.6826231212746164\n",
      "Adjusted R-squared 0.6744852525893502\n"
     ]
    }
   ],
   "source": [
    "model_1 = smf.ols(formula = 'MPG~SP+WT',data = cars).fit()\n",
    "\n",
    "print('AIC',model_1.aic)\n",
    "\n",
    "print('BIC',model_1.bic)\n",
    "\n",
    "print('R-squared',model_1.rsquared)\n",
    "\n",
    "print('Adjusted R-squared',model_1.rsquared_adj)"
   ]
  },
  {
   "cell_type": "code",
   "execution_count": 47,
   "id": "5d7f991f-2bc7-4b42-8595-f2d749a1ef70",
   "metadata": {},
   "outputs": [
    {
     "name": "stdout",
     "output_type": "stream",
     "text": [
      "AIC 499.6151150749222\n",
      "BIC 506.7984625389395\n",
      "R-squared 0.6849073714078721\n",
      "Adjusted R-squared 0.6768280732388432\n"
     ]
    }
   ],
   "source": [
    "model_1 = smf.ols(formula = 'MPG~SP+VOL',data = cars).fit()\n",
    "\n",
    "print('AIC',model_1.aic)\n",
    "\n",
    "print('BIC',model_1.bic)\n",
    "\n",
    "print('R-squared',model_1.rsquared)\n",
    "\n",
    "print('Adjusted R-squared',model_1.rsquared_adj)"
   ]
  },
  {
   "cell_type": "code",
   "execution_count": 48,
   "id": "eb971e63-f1fa-4957-a56b-161a3da4f964",
   "metadata": {},
   "outputs": [
    {
     "name": "stdout",
     "output_type": "stream",
     "text": [
      "AIC 500.9002336057836\n",
      "BIC 510.4780302244734\n",
      "R-squared 0.6876760478006352\n",
      "Adjusted R-squared 0.6755075821305301\n"
     ]
    }
   ],
   "source": [
    "model_1 = smf.ols(formula = 'MPG~SP+WT+VOL',data = cars).fit()\n",
    "\n",
    "print('AIC',model_1.aic)\n",
    "\n",
    "print('BIC',model_1.bic)\n",
    "\n",
    "print('R-squared',model_1.rsquared)\n",
    "\n",
    "print('Adjusted R-squared',model_1.rsquared_adj)"
   ]
  },
  {
   "cell_type": "code",
   "execution_count": 49,
   "id": "63150be1-0a95-40bb-976d-31b02207d35b",
   "metadata": {},
   "outputs": [
    {
     "name": "stdout",
     "output_type": "stream",
     "text": [
      "AIC 566.3145901819738\n",
      "BIC 573.4979376459911\n",
      "R-squared 0.282109561644598\n",
      "Adjusted R-squared 0.2637021145072801\n"
     ]
    }
   ],
   "source": [
    "model_1 = smf.ols(formula = 'MPG~WT+VOL',data = cars).fit()\n",
    "\n",
    "print('AIC',model_1.aic)\n",
    "\n",
    "print('BIC',model_1.bic)\n",
    "\n",
    "print('R-squared',model_1.rsquared)\n",
    "\n",
    "print('Adjusted R-squared',model_1.rsquared_adj)"
   ]
  },
  {
   "cell_type": "code",
   "execution_count": 50,
   "id": "baa196f8-c7a1-4d7b-a0f6-047c27b63aef",
   "metadata": {},
   "outputs": [
    {
     "name": "stdout",
     "output_type": "stream",
     "text": [
      "AIC 476.2992750152977\n",
      "BIC 485.8770716339875\n",
      "R-squared 0.7694828139983457\n",
      "Adjusted R-squared 0.7605016249333463\n"
     ]
    }
   ],
   "source": [
    "model_1 = smf.ols(formula = 'MPG~HP+SP+WT',data = cars).fit()\n",
    "\n",
    "print('AIC',model_1.aic)\n",
    "\n",
    "print('BIC',model_1.bic)\n",
    "\n",
    "print('R-squared',model_1.rsquared)\n",
    "\n",
    "print('Adjusted R-squared',model_1.rsquared_adj)"
   ]
  },
  {
   "cell_type": "markdown",
   "id": "f5c9614d-e25f-4295-b318-ecbc4e4da309",
   "metadata": {},
   "source": [
    "## 0.7694828139983457 is almost same accuracy as linear regression we trained earlier but not good accuracy for that we need to do certain techniques to improve accuracy. \n",
    "\n",
    "## The techniques are follows:"
   ]
  },
  {
   "cell_type": "markdown",
   "id": "f013cdfd-589c-4b61-8e37-58dfa0753f80",
   "metadata": {},
   "source": [
    "# Data transformation techniques for continous data\n",
    "\n",
    "Log Transformation\n",
    "\n",
    "Square root Transformation\n",
    "\n",
    "Cube Root Transformation\n",
    "\n",
    "Reciprocal Transformation\n",
    "\n",
    "Boxcox Transformation\n",
    "\n",
    "Standard Scaler\n",
    "\n",
    "Min Max Scaler\n",
    "\n",
    "Roubust Scaler\n"
   ]
  },
  {
   "cell_type": "markdown",
   "id": "dc0d56c9-d6a9-476c-b257-77208280fe29",
   "metadata": {},
   "source": [
    "# Data transformation techniques for Discrete data\n",
    "\n",
    "Label Encoding\n",
    "\n",
    "One Hot Encoding\n"
   ]
  },
  {
   "cell_type": "code",
   "execution_count": 51,
   "id": "a621da72-d946-4019-9bc5-10a52d9351d9",
   "metadata": {},
   "outputs": [
    {
     "data": {
      "text/html": [
       "<div>\n",
       "<style scoped>\n",
       "    .dataframe tbody tr th:only-of-type {\n",
       "        vertical-align: middle;\n",
       "    }\n",
       "\n",
       "    .dataframe tbody tr th {\n",
       "        vertical-align: top;\n",
       "    }\n",
       "\n",
       "    .dataframe thead th {\n",
       "        text-align: right;\n",
       "    }\n",
       "</style>\n",
       "<table border=\"1\" class=\"dataframe\">\n",
       "  <thead>\n",
       "    <tr style=\"text-align: right;\">\n",
       "      <th></th>\n",
       "      <th>HP</th>\n",
       "      <th>MPG</th>\n",
       "      <th>VOL</th>\n",
       "      <th>SP</th>\n",
       "      <th>WT</th>\n",
       "    </tr>\n",
       "  </thead>\n",
       "  <tbody>\n",
       "    <tr>\n",
       "      <th>0</th>\n",
       "      <td>49</td>\n",
       "      <td>53.700681</td>\n",
       "      <td>89</td>\n",
       "      <td>104.185353</td>\n",
       "      <td>28.762059</td>\n",
       "    </tr>\n",
       "    <tr>\n",
       "      <th>1</th>\n",
       "      <td>55</td>\n",
       "      <td>50.013401</td>\n",
       "      <td>92</td>\n",
       "      <td>105.461264</td>\n",
       "      <td>30.466833</td>\n",
       "    </tr>\n",
       "    <tr>\n",
       "      <th>2</th>\n",
       "      <td>55</td>\n",
       "      <td>50.013401</td>\n",
       "      <td>92</td>\n",
       "      <td>105.461264</td>\n",
       "      <td>30.193597</td>\n",
       "    </tr>\n",
       "    <tr>\n",
       "      <th>3</th>\n",
       "      <td>70</td>\n",
       "      <td>45.696322</td>\n",
       "      <td>92</td>\n",
       "      <td>113.461264</td>\n",
       "      <td>30.632114</td>\n",
       "    </tr>\n",
       "    <tr>\n",
       "      <th>4</th>\n",
       "      <td>53</td>\n",
       "      <td>50.504232</td>\n",
       "      <td>92</td>\n",
       "      <td>104.461264</td>\n",
       "      <td>29.889149</td>\n",
       "    </tr>\n",
       "    <tr>\n",
       "      <th>...</th>\n",
       "      <td>...</td>\n",
       "      <td>...</td>\n",
       "      <td>...</td>\n",
       "      <td>...</td>\n",
       "      <td>...</td>\n",
       "    </tr>\n",
       "    <tr>\n",
       "      <th>76</th>\n",
       "      <td>322</td>\n",
       "      <td>36.900000</td>\n",
       "      <td>50</td>\n",
       "      <td>169.598513</td>\n",
       "      <td>16.132947</td>\n",
       "    </tr>\n",
       "    <tr>\n",
       "      <th>77</th>\n",
       "      <td>238</td>\n",
       "      <td>19.197888</td>\n",
       "      <td>115</td>\n",
       "      <td>150.576579</td>\n",
       "      <td>37.923113</td>\n",
       "    </tr>\n",
       "    <tr>\n",
       "      <th>78</th>\n",
       "      <td>263</td>\n",
       "      <td>34.000000</td>\n",
       "      <td>50</td>\n",
       "      <td>151.598513</td>\n",
       "      <td>15.769625</td>\n",
       "    </tr>\n",
       "    <tr>\n",
       "      <th>79</th>\n",
       "      <td>295</td>\n",
       "      <td>19.833733</td>\n",
       "      <td>119</td>\n",
       "      <td>167.944460</td>\n",
       "      <td>39.423099</td>\n",
       "    </tr>\n",
       "    <tr>\n",
       "      <th>80</th>\n",
       "      <td>236</td>\n",
       "      <td>12.101263</td>\n",
       "      <td>107</td>\n",
       "      <td>139.840817</td>\n",
       "      <td>34.948615</td>\n",
       "    </tr>\n",
       "  </tbody>\n",
       "</table>\n",
       "<p>81 rows × 5 columns</p>\n",
       "</div>"
      ],
      "text/plain": [
       "     HP        MPG  VOL          SP         WT\n",
       "0    49  53.700681   89  104.185353  28.762059\n",
       "1    55  50.013401   92  105.461264  30.466833\n",
       "2    55  50.013401   92  105.461264  30.193597\n",
       "3    70  45.696322   92  113.461264  30.632114\n",
       "4    53  50.504232   92  104.461264  29.889149\n",
       "..  ...        ...  ...         ...        ...\n",
       "76  322  36.900000   50  169.598513  16.132947\n",
       "77  238  19.197888  115  150.576579  37.923113\n",
       "78  263  34.000000   50  151.598513  15.769625\n",
       "79  295  19.833733  119  167.944460  39.423099\n",
       "80  236  12.101263  107  139.840817  34.948615\n",
       "\n",
       "[81 rows x 5 columns]"
      ]
     },
     "execution_count": 51,
     "metadata": {},
     "output_type": "execute_result"
    }
   ],
   "source": [
    "cars"
   ]
  },
  {
   "cell_type": "code",
   "execution_count": 52,
   "id": "4001685e-cb2a-467b-8397-c9d9dfdff648",
   "metadata": {},
   "outputs": [],
   "source": [
    "# we are making copy of cars dataframe\n",
    "# We can perform any transformation in this copy df and without making any changes in main df\n",
    "cars_df = cars.copy()"
   ]
  },
  {
   "cell_type": "code",
   "execution_count": 53,
   "id": "3a7f94e4-1be7-40a4-ae64-70f586a834de",
   "metadata": {},
   "outputs": [
    {
     "data": {
      "text/html": [
       "<div>\n",
       "<style scoped>\n",
       "    .dataframe tbody tr th:only-of-type {\n",
       "        vertical-align: middle;\n",
       "    }\n",
       "\n",
       "    .dataframe tbody tr th {\n",
       "        vertical-align: top;\n",
       "    }\n",
       "\n",
       "    .dataframe thead th {\n",
       "        text-align: right;\n",
       "    }\n",
       "</style>\n",
       "<table border=\"1\" class=\"dataframe\">\n",
       "  <thead>\n",
       "    <tr style=\"text-align: right;\">\n",
       "      <th></th>\n",
       "      <th>HP</th>\n",
       "      <th>MPG</th>\n",
       "      <th>VOL</th>\n",
       "      <th>SP</th>\n",
       "      <th>WT</th>\n",
       "    </tr>\n",
       "  </thead>\n",
       "  <tbody>\n",
       "    <tr>\n",
       "      <th>0</th>\n",
       "      <td>49</td>\n",
       "      <td>53.700681</td>\n",
       "      <td>89</td>\n",
       "      <td>104.185353</td>\n",
       "      <td>28.762059</td>\n",
       "    </tr>\n",
       "    <tr>\n",
       "      <th>1</th>\n",
       "      <td>55</td>\n",
       "      <td>50.013401</td>\n",
       "      <td>92</td>\n",
       "      <td>105.461264</td>\n",
       "      <td>30.466833</td>\n",
       "    </tr>\n",
       "    <tr>\n",
       "      <th>2</th>\n",
       "      <td>55</td>\n",
       "      <td>50.013401</td>\n",
       "      <td>92</td>\n",
       "      <td>105.461264</td>\n",
       "      <td>30.193597</td>\n",
       "    </tr>\n",
       "    <tr>\n",
       "      <th>3</th>\n",
       "      <td>70</td>\n",
       "      <td>45.696322</td>\n",
       "      <td>92</td>\n",
       "      <td>113.461264</td>\n",
       "      <td>30.632114</td>\n",
       "    </tr>\n",
       "    <tr>\n",
       "      <th>4</th>\n",
       "      <td>53</td>\n",
       "      <td>50.504232</td>\n",
       "      <td>92</td>\n",
       "      <td>104.461264</td>\n",
       "      <td>29.889149</td>\n",
       "    </tr>\n",
       "    <tr>\n",
       "      <th>...</th>\n",
       "      <td>...</td>\n",
       "      <td>...</td>\n",
       "      <td>...</td>\n",
       "      <td>...</td>\n",
       "      <td>...</td>\n",
       "    </tr>\n",
       "    <tr>\n",
       "      <th>76</th>\n",
       "      <td>322</td>\n",
       "      <td>36.900000</td>\n",
       "      <td>50</td>\n",
       "      <td>169.598513</td>\n",
       "      <td>16.132947</td>\n",
       "    </tr>\n",
       "    <tr>\n",
       "      <th>77</th>\n",
       "      <td>238</td>\n",
       "      <td>19.197888</td>\n",
       "      <td>115</td>\n",
       "      <td>150.576579</td>\n",
       "      <td>37.923113</td>\n",
       "    </tr>\n",
       "    <tr>\n",
       "      <th>78</th>\n",
       "      <td>263</td>\n",
       "      <td>34.000000</td>\n",
       "      <td>50</td>\n",
       "      <td>151.598513</td>\n",
       "      <td>15.769625</td>\n",
       "    </tr>\n",
       "    <tr>\n",
       "      <th>79</th>\n",
       "      <td>295</td>\n",
       "      <td>19.833733</td>\n",
       "      <td>119</td>\n",
       "      <td>167.944460</td>\n",
       "      <td>39.423099</td>\n",
       "    </tr>\n",
       "    <tr>\n",
       "      <th>80</th>\n",
       "      <td>236</td>\n",
       "      <td>12.101263</td>\n",
       "      <td>107</td>\n",
       "      <td>139.840817</td>\n",
       "      <td>34.948615</td>\n",
       "    </tr>\n",
       "  </tbody>\n",
       "</table>\n",
       "<p>81 rows × 5 columns</p>\n",
       "</div>"
      ],
      "text/plain": [
       "     HP        MPG  VOL          SP         WT\n",
       "0    49  53.700681   89  104.185353  28.762059\n",
       "1    55  50.013401   92  105.461264  30.466833\n",
       "2    55  50.013401   92  105.461264  30.193597\n",
       "3    70  45.696322   92  113.461264  30.632114\n",
       "4    53  50.504232   92  104.461264  29.889149\n",
       "..  ...        ...  ...         ...        ...\n",
       "76  322  36.900000   50  169.598513  16.132947\n",
       "77  238  19.197888  115  150.576579  37.923113\n",
       "78  263  34.000000   50  151.598513  15.769625\n",
       "79  295  19.833733  119  167.944460  39.423099\n",
       "80  236  12.101263  107  139.840817  34.948615\n",
       "\n",
       "[81 rows x 5 columns]"
      ]
     },
     "execution_count": 53,
     "metadata": {},
     "output_type": "execute_result"
    }
   ],
   "source": [
    "cars_df"
   ]
  },
  {
   "cell_type": "code",
   "execution_count": 54,
   "id": "eb75c13d-8851-482a-838a-3a77af39d5c4",
   "metadata": {},
   "outputs": [],
   "source": [
    "# Applying log transformation in cars_df\n",
    "\n",
    "cars_df['log_HP'] = np.log(cars_df['HP'])"
   ]
  },
  {
   "cell_type": "code",
   "execution_count": 55,
   "id": "5db859d4-c5b6-423e-ba95-17265c20a157",
   "metadata": {},
   "outputs": [],
   "source": [
    "cars_df['log_VOL'] = np.log(cars_df['VOL'])"
   ]
  },
  {
   "cell_type": "code",
   "execution_count": 56,
   "id": "4ab1c44f-c7b3-4fb6-b2d9-4a171e211196",
   "metadata": {},
   "outputs": [],
   "source": [
    "cars_df['log_SP'] = np.log(cars_df['SP'])"
   ]
  },
  {
   "cell_type": "code",
   "execution_count": 57,
   "id": "2405be9f-f942-4b39-b117-610781a27302",
   "metadata": {},
   "outputs": [],
   "source": [
    "cars_df['log_WT'] = np.log(cars_df['WT'])"
   ]
  },
  {
   "cell_type": "code",
   "execution_count": 58,
   "id": "75643cb7-f6ff-4ecc-b051-69dad0a0b760",
   "metadata": {},
   "outputs": [
    {
     "data": {
      "text/html": [
       "<div>\n",
       "<style scoped>\n",
       "    .dataframe tbody tr th:only-of-type {\n",
       "        vertical-align: middle;\n",
       "    }\n",
       "\n",
       "    .dataframe tbody tr th {\n",
       "        vertical-align: top;\n",
       "    }\n",
       "\n",
       "    .dataframe thead th {\n",
       "        text-align: right;\n",
       "    }\n",
       "</style>\n",
       "<table border=\"1\" class=\"dataframe\">\n",
       "  <thead>\n",
       "    <tr style=\"text-align: right;\">\n",
       "      <th></th>\n",
       "      <th>HP</th>\n",
       "      <th>MPG</th>\n",
       "      <th>VOL</th>\n",
       "      <th>SP</th>\n",
       "      <th>WT</th>\n",
       "      <th>log_HP</th>\n",
       "      <th>log_VOL</th>\n",
       "      <th>log_SP</th>\n",
       "      <th>log_WT</th>\n",
       "    </tr>\n",
       "  </thead>\n",
       "  <tbody>\n",
       "    <tr>\n",
       "      <th>0</th>\n",
       "      <td>49</td>\n",
       "      <td>53.700681</td>\n",
       "      <td>89</td>\n",
       "      <td>104.185353</td>\n",
       "      <td>28.762059</td>\n",
       "      <td>3.891820</td>\n",
       "      <td>4.488636</td>\n",
       "      <td>4.646172</td>\n",
       "      <td>3.359057</td>\n",
       "    </tr>\n",
       "    <tr>\n",
       "      <th>1</th>\n",
       "      <td>55</td>\n",
       "      <td>50.013401</td>\n",
       "      <td>92</td>\n",
       "      <td>105.461264</td>\n",
       "      <td>30.466833</td>\n",
       "      <td>4.007333</td>\n",
       "      <td>4.521789</td>\n",
       "      <td>4.658344</td>\n",
       "      <td>3.416639</td>\n",
       "    </tr>\n",
       "    <tr>\n",
       "      <th>2</th>\n",
       "      <td>55</td>\n",
       "      <td>50.013401</td>\n",
       "      <td>92</td>\n",
       "      <td>105.461264</td>\n",
       "      <td>30.193597</td>\n",
       "      <td>4.007333</td>\n",
       "      <td>4.521789</td>\n",
       "      <td>4.658344</td>\n",
       "      <td>3.407630</td>\n",
       "    </tr>\n",
       "    <tr>\n",
       "      <th>3</th>\n",
       "      <td>70</td>\n",
       "      <td>45.696322</td>\n",
       "      <td>92</td>\n",
       "      <td>113.461264</td>\n",
       "      <td>30.632114</td>\n",
       "      <td>4.248495</td>\n",
       "      <td>4.521789</td>\n",
       "      <td>4.731461</td>\n",
       "      <td>3.422049</td>\n",
       "    </tr>\n",
       "    <tr>\n",
       "      <th>4</th>\n",
       "      <td>53</td>\n",
       "      <td>50.504232</td>\n",
       "      <td>92</td>\n",
       "      <td>104.461264</td>\n",
       "      <td>29.889149</td>\n",
       "      <td>3.970292</td>\n",
       "      <td>4.521789</td>\n",
       "      <td>4.648816</td>\n",
       "      <td>3.397495</td>\n",
       "    </tr>\n",
       "    <tr>\n",
       "      <th>...</th>\n",
       "      <td>...</td>\n",
       "      <td>...</td>\n",
       "      <td>...</td>\n",
       "      <td>...</td>\n",
       "      <td>...</td>\n",
       "      <td>...</td>\n",
       "      <td>...</td>\n",
       "      <td>...</td>\n",
       "      <td>...</td>\n",
       "    </tr>\n",
       "    <tr>\n",
       "      <th>76</th>\n",
       "      <td>322</td>\n",
       "      <td>36.900000</td>\n",
       "      <td>50</td>\n",
       "      <td>169.598513</td>\n",
       "      <td>16.132947</td>\n",
       "      <td>5.774552</td>\n",
       "      <td>3.912023</td>\n",
       "      <td>5.133434</td>\n",
       "      <td>2.780864</td>\n",
       "    </tr>\n",
       "    <tr>\n",
       "      <th>77</th>\n",
       "      <td>238</td>\n",
       "      <td>19.197888</td>\n",
       "      <td>115</td>\n",
       "      <td>150.576579</td>\n",
       "      <td>37.923113</td>\n",
       "      <td>5.472271</td>\n",
       "      <td>4.744932</td>\n",
       "      <td>5.014472</td>\n",
       "      <td>3.635561</td>\n",
       "    </tr>\n",
       "    <tr>\n",
       "      <th>78</th>\n",
       "      <td>263</td>\n",
       "      <td>34.000000</td>\n",
       "      <td>50</td>\n",
       "      <td>151.598513</td>\n",
       "      <td>15.769625</td>\n",
       "      <td>5.572154</td>\n",
       "      <td>3.912023</td>\n",
       "      <td>5.021236</td>\n",
       "      <td>2.758086</td>\n",
       "    </tr>\n",
       "    <tr>\n",
       "      <th>79</th>\n",
       "      <td>295</td>\n",
       "      <td>19.833733</td>\n",
       "      <td>119</td>\n",
       "      <td>167.944460</td>\n",
       "      <td>39.423099</td>\n",
       "      <td>5.686975</td>\n",
       "      <td>4.779123</td>\n",
       "      <td>5.123633</td>\n",
       "      <td>3.674352</td>\n",
       "    </tr>\n",
       "    <tr>\n",
       "      <th>80</th>\n",
       "      <td>236</td>\n",
       "      <td>12.101263</td>\n",
       "      <td>107</td>\n",
       "      <td>139.840817</td>\n",
       "      <td>34.948615</td>\n",
       "      <td>5.463832</td>\n",
       "      <td>4.672829</td>\n",
       "      <td>4.940505</td>\n",
       "      <td>3.553879</td>\n",
       "    </tr>\n",
       "  </tbody>\n",
       "</table>\n",
       "<p>81 rows × 9 columns</p>\n",
       "</div>"
      ],
      "text/plain": [
       "     HP        MPG  VOL          SP         WT    log_HP   log_VOL    log_SP  \\\n",
       "0    49  53.700681   89  104.185353  28.762059  3.891820  4.488636  4.646172   \n",
       "1    55  50.013401   92  105.461264  30.466833  4.007333  4.521789  4.658344   \n",
       "2    55  50.013401   92  105.461264  30.193597  4.007333  4.521789  4.658344   \n",
       "3    70  45.696322   92  113.461264  30.632114  4.248495  4.521789  4.731461   \n",
       "4    53  50.504232   92  104.461264  29.889149  3.970292  4.521789  4.648816   \n",
       "..  ...        ...  ...         ...        ...       ...       ...       ...   \n",
       "76  322  36.900000   50  169.598513  16.132947  5.774552  3.912023  5.133434   \n",
       "77  238  19.197888  115  150.576579  37.923113  5.472271  4.744932  5.014472   \n",
       "78  263  34.000000   50  151.598513  15.769625  5.572154  3.912023  5.021236   \n",
       "79  295  19.833733  119  167.944460  39.423099  5.686975  4.779123  5.123633   \n",
       "80  236  12.101263  107  139.840817  34.948615  5.463832  4.672829  4.940505   \n",
       "\n",
       "      log_WT  \n",
       "0   3.359057  \n",
       "1   3.416639  \n",
       "2   3.407630  \n",
       "3   3.422049  \n",
       "4   3.397495  \n",
       "..       ...  \n",
       "76  2.780864  \n",
       "77  3.635561  \n",
       "78  2.758086  \n",
       "79  3.674352  \n",
       "80  3.553879  \n",
       "\n",
       "[81 rows x 9 columns]"
      ]
     },
     "execution_count": 58,
     "metadata": {},
     "output_type": "execute_result"
    }
   ],
   "source": [
    "cars_df"
   ]
  },
  {
   "cell_type": "code",
   "execution_count": 59,
   "id": "0e5210c8-e96b-4d7c-b9ee-7e1c801b8ccb",
   "metadata": {},
   "outputs": [
    {
     "data": {
      "image/png": "[encoded data removed]",
      "text/plain": [
       "<Figure size 640x480 with 2 Axes>"
      ]
     },
     "metadata": {},
     "output_type": "display_data"
    }
   ],
   "source": [
    "sns.heatmap(data = cars_df.corr(),annot = True)\n",
    "plt.show()"
   ]
  },
  {
   "cell_type": "code",
   "execution_count": 60,
   "id": "5fd2487e-101b-4aed-b8a5-49b4b537905c",
   "metadata": {},
   "outputs": [
    {
     "name": "stdout",
     "output_type": "stream",
     "text": [
      "AIC 530.7452702659343\n",
      "BIC 535.5341685752792\n",
      "R-squared 0.5256806086282022\n",
      "Adjusted R-squared 0.5196765656994453\n"
     ]
    }
   ],
   "source": [
    "# initially r2 was 52\n",
    "model_1 = smf.ols(formula = 'MPG~HP',data = cars).fit()\n",
    "\n",
    "print('AIC',model_1.aic)\n",
    "\n",
    "print('BIC',model_1.bic)\n",
    "\n",
    "print('R-squared',model_1.rsquared)\n",
    "\n",
    "print('Adjusted R-squared',model_1.rsquared_adj)"
   ]
  },
  {
   "cell_type": "code",
   "execution_count": 61,
   "id": "14706b65-17da-40b1-8697-142ec3acc64a",
   "metadata": {},
   "outputs": [
    {
     "name": "stdout",
     "output_type": "stream",
     "text": [
      "AIC 490.49860857307215\n",
      "BIC 495.287506882417\n",
      "R-squared 0.7114095515436409\n",
      "Adjusted R-squared 0.7077565078922946\n"
     ]
    }
   ],
   "source": [
    "# initially r2 was 52\n",
    "model_2 = smf.ols(formula = 'MPG~log_HP',data = cars_df).fit()\n",
    "\n",
    "print('AIC',model_2.aic)\n",
    "\n",
    "print('BIC',model_2.bic)\n",
    "\n",
    "print('R-squared',model_2.rsquared)\n",
    "\n",
    "print('Adjusted R-squared',model_2.rsquared_adj)"
   ]
  },
  {
   "cell_type": "code",
   "execution_count": 62,
   "id": "73c24c31-9724-4c5e-84b9-c64d3374410e",
   "metadata": {},
   "outputs": [
    {
     "name": "stdout",
     "output_type": "stream",
     "text": [
      "AIC 564.8358142145094\n",
      "BIC 569.6247125238542\n",
      "R-squared 0.2774751389270127\n",
      "Adjusted R-squared 0.2683292546096331\n"
     ]
    }
   ],
   "source": [
    "model_1 = smf.ols(formula = 'MPG~WT',data = cars).fit()\n",
    "\n",
    "print('AIC',model_1.aic)\n",
    "\n",
    "print('BIC',model_1.bic)\n",
    "\n",
    "print('R-squared',model_1.rsquared)\n",
    "\n",
    "print('Adjusted R-squared',model_1.rsquared_adj)"
   ]
  },
  {
   "cell_type": "code",
   "execution_count": 63,
   "id": "d684fea6-1e83-47b4-bc64-45b8fd953746",
   "metadata": {},
   "outputs": [
    {
     "name": "stdout",
     "output_type": "stream",
     "text": [
      "AIC 573.689208547852\n",
      "BIC 578.4781068571968\n",
      "R-squared 0.19402478308187288\n",
      "Adjusted R-squared 0.18382256514620032\n"
     ]
    }
   ],
   "source": [
    "#initially r2 was 27\n",
    "model_2 = smf.ols(formula = 'MPG~log_WT',data = cars_df).fit()\n",
    "\n",
    "print('AIC',model_2.aic)\n",
    "\n",
    "print('BIC',model_2.bic)\n",
    "\n",
    "print('R-squared',model_2.rsquared)\n",
    "\n",
    "print('Adjusted R-squared',model_2.rsquared_adj)"
   ]
  },
  {
   "cell_type": "code",
   "execution_count": 64,
   "id": "be1359a4-b024-43eb-a696-76255b864980",
   "metadata": {},
   "outputs": [
    {
     "name": "stdout",
     "output_type": "stream",
     "text": [
      "AIC 539.408199092848\n",
      "BIC 544.1970974021929\n",
      "R-squared 0.4721402334141218\n",
      "Adjusted R-squared 0.46545846421683224\n"
     ]
    }
   ],
   "source": [
    "model_1 = smf.ols(formula = 'MPG~SP',data = cars).fit()\n",
    "\n",
    "print('AIC',model_1.aic)\n",
    "\n",
    "print('BIC',model_1.bic)\n",
    "\n",
    "print('R-squared',model_1.rsquared)\n",
    "\n",
    "print('Adjusted R-squared',model_1.rsquared_adj)"
   ]
  },
  {
   "cell_type": "code",
   "execution_count": 65,
   "id": "4c79125d-e85c-4a14-b269-6db2bce3a6f5",
   "metadata": {},
   "outputs": [
    {
     "name": "stdout",
     "output_type": "stream",
     "text": [
      "AIC 532.1442469181513\n",
      "BIC 536.9331452274962\n",
      "R-squared 0.5174173348052116\n",
      "Adjusted R-squared 0.511308693473632\n"
     ]
    }
   ],
   "source": [
    "model_2 = smf.ols(formula = 'MPG~log_SP',data = cars_df).fit()\n",
    "\n",
    "print('AIC',model_2.aic)\n",
    "\n",
    "print('BIC',model_2.bic)\n",
    "\n",
    "print('R-squared',model_2.rsquared)\n",
    "\n",
    "print('Adjusted R-squared',model_2.rsquared_adj)"
   ]
  },
  {
   "cell_type": "code",
   "execution_count": 66,
   "id": "257e83d1-14fb-4108-a286-ccad9d0a2508",
   "metadata": {},
   "outputs": [
    {
     "name": "stdout",
     "output_type": "stream",
     "text": [
      "AIC 564.5634161305575\n",
      "BIC 569.3523144399023\n",
      "R-squared 0.27990086511227064\n",
      "Adjusted R-squared 0.27078568618964105\n"
     ]
    }
   ],
   "source": [
    "model_1 = smf.ols(formula = 'MPG~VOL',data = cars).fit()\n",
    "\n",
    "print('AIC',model_1.aic)\n",
    "\n",
    "print('BIC',model_1.bic)\n",
    "\n",
    "print('R-squared',model_1.rsquared)\n",
    "\n",
    "print('Adjusted R-squared',model_1.rsquared_adj)"
   ]
  },
  {
   "cell_type": "code",
   "execution_count": 67,
   "id": "11ee975b-a526-48c4-852b-f3de5d491742",
   "metadata": {},
   "outputs": [
    {
     "name": "stdout",
     "output_type": "stream",
     "text": [
      "AIC 573.0814921857461\n",
      "BIC 577.870390495091\n",
      "R-squared 0.20004912250114715\n",
      "Adjusted R-squared 0.18992316202647808\n"
     ]
    }
   ],
   "source": [
    "model_2 = smf.ols(formula = 'MPG~log_VOL',data = cars_df).fit()\n",
    "\n",
    "print('AIC',model_2.aic)\n",
    "\n",
    "print('BIC',model_2.bic)\n",
    "\n",
    "print('R-squared',model_2.rsquared)\n",
    "\n",
    "print('Adjusted R-squared',model_2.rsquared_adj)"
   ]
  },
  {
   "cell_type": "code",
   "execution_count": 68,
   "id": "e72b4e1e-96e8-453e-93e6-3279a9deed86",
   "metadata": {},
   "outputs": [
    {
     "name": "stdout",
     "output_type": "stream",
     "text": [
      "AIC 397.9193753799126\n",
      "BIC 409.8916211532748\n",
      "R-squared 0.9145457641545164\n",
      "Adjusted R-squared 0.9100481727942278\n"
     ]
    }
   ],
   "source": [
    "model_2 = smf.ols(formula = 'MPG~log_HP+log_SP+WT+VOL',data = cars_df).fit()\n",
    "\n",
    "print('AIC',model_2.aic)\n",
    "\n",
    "print('BIC',model_2.bic)\n",
    "\n",
    "print('R-squared',model_2.rsquared)\n",
    "\n",
    "print('Adjusted R-squared',model_2.rsquared_adj)"
   ]
  },
  {
   "cell_type": "markdown",
   "id": "8ad81621-35a1-4558-b9a8-6e160644c3a2",
   "metadata": {},
   "source": [
    "# Day 3"
   ]
  },
  {
   "cell_type": "markdown",
   "id": "3d4e41d3-87dc-47c4-88eb-9ba8735fdac2",
   "metadata": {},
   "source": [
    "## now we are selecting the high performing features together"
   ]
  },
  {
   "cell_type": "code",
   "execution_count": 69,
   "id": "cd7e9b83-7b83-4b49-b2c0-87da893dd9d5",
   "metadata": {},
   "outputs": [
    {
     "name": "stdout",
     "output_type": "stream",
     "text": [
      "AIC 459.5114665889197\n",
      "BIC 466.694814052937\n",
      "R-squared 0.8079492071396546\n",
      "Adjusted R-squared 0.8030248278355432\n"
     ]
    }
   ],
   "source": [
    "model_2 = smf.ols(formula = 'MPG~log_HP+log_SP',data = cars_df).fit()\n",
    "\n",
    "print('AIC',model_2.aic)\n",
    "\n",
    "print('BIC',model_2.bic)\n",
    "\n",
    "print('R-squared',model_2.rsquared)\n",
    "\n",
    "print('Adjusted R-squared',model_2.rsquared_adj)"
   ]
  },
  {
   "cell_type": "code",
   "execution_count": 70,
   "id": "e85a9a0b-3cd4-4e9f-bf5b-9bce29dc7fdd",
   "metadata": {},
   "outputs": [
    {
     "name": "stdout",
     "output_type": "stream",
     "text": [
      "AIC 396.2763347861735\n",
      "BIC 405.85413140486327\n",
      "R-squared 0.9141683443323988\n",
      "Adjusted R-squared 0.910824253851843\n"
     ]
    }
   ],
   "source": [
    "model_2 = smf.ols(formula = 'MPG~log_HP+log_SP+WT',data = cars_df).fit()\n",
    "\n",
    "print('AIC',model_2.aic)\n",
    "\n",
    "print('BIC',model_2.bic)\n",
    "\n",
    "print('R-squared',model_2.rsquared)\n",
    "\n",
    "print('Adjusted R-squared',model_2.rsquared_adj)"
   ]
  },
  {
   "cell_type": "code",
   "execution_count": 71,
   "id": "8e18c777-2212-4591-a178-33d84b37ad39",
   "metadata": {},
   "outputs": [
    {
     "name": "stdout",
     "output_type": "stream",
     "text": [
      "AIC 397.9193753799126\n",
      "BIC 409.8916211532748\n",
      "R-squared 0.9145457641545164\n",
      "Adjusted R-squared 0.9100481727942278\n"
     ]
    }
   ],
   "source": [
    "model_2 = smf.ols(formula = 'MPG~log_HP+log_SP+WT+VOL',data = cars_df).fit()\n",
    "\n",
    "print('AIC',model_2.aic)\n",
    "\n",
    "print('BIC',model_2.bic)\n",
    "\n",
    "print('R-squared',model_2.rsquared)\n",
    "\n",
    "print('Adjusted R-squared',model_2.rsquared_adj)"
   ]
  },
  {
   "cell_type": "code",
   "execution_count": 72,
   "id": "b63e5b8d-294f-4a38-8488-cf6fc3283fcb",
   "metadata": {},
   "outputs": [
    {
     "name": "stdout",
     "output_type": "stream",
     "text": [
      "AIC 396.92283101805924\n",
      "BIC 406.500627636749\n",
      "R-squared 0.9134805433870518\n",
      "Adjusted R-squared 0.9101096554670668\n"
     ]
    }
   ],
   "source": [
    "model_2 = smf.ols(formula = 'MPG~log_HP+log_SP+VOL',data = cars_df).fit()\n",
    "\n",
    "print('AIC',model_2.aic)\n",
    "\n",
    "print('BIC',model_2.bic)\n",
    "\n",
    "print('R-squared',model_2.rsquared)\n",
    "\n",
    "print('Adjusted R-squared',model_2.rsquared_adj)"
   ]
  },
  {
   "cell_type": "code",
   "execution_count": 73,
   "id": "4cdc75b6-7fe6-4c9e-89f8-d1e66097bfd9",
   "metadata": {},
   "outputs": [
    {
     "name": "stdout",
     "output_type": "stream",
     "text": [
      "AIC 396.92283101805924\n",
      "BIC 406.500627636749\n",
      "R-squared 0.9134805433870518\n",
      "Adjusted R-squared 0.9101096554670668\n"
     ]
    }
   ],
   "source": [
    "model_f2 = smf.ols(formula = 'MPG~log_HP+log_SP+WT+VOL',data = cars_df).fit()\n",
    "\n",
    "print('AIC',model_2.aic)\n",
    "\n",
    "print('BIC',model_2.bic)\n",
    "\n",
    "print('R-squared',model_2.rsquared)\n",
    "\n",
    "print('Adjusted R-squared',model_2.rsquared_adj)"
   ]
  },
  {
   "cell_type": "code",
   "execution_count": 93,
   "id": "fb1290cb-515b-45a8-b96d-80fce92f363e",
   "metadata": {},
   "outputs": [],
   "source": [
    "y_pred_model = model_f2.predict()"
   ]
  },
  {
   "cell_type": "code",
   "execution_count": null,
   "id": "52292c96-fc24-4744-9383-2a62ce9a30de",
   "metadata": {},
   "outputs": [],
   "source": []
  },
  {
   "cell_type": "code",
   "execution_count": 94,
   "id": "8bfbb846-4a71-4274-8b77-3d784e543c81",
   "metadata": {},
   "outputs": [
    {
     "data": {
      "text/plain": [
       "array([52.98807605, 48.63534594, 48.91187864, 45.36001677, 49.82758114,\n",
       "       45.61861841, 48.79560971, 48.49185073, 47.97395189, 42.11551032,\n",
       "       42.97339582, 44.78514928, 40.32749776, 42.95811883, 44.53422204,\n",
       "       42.72930103, 42.97339379, 44.33924724, 42.57503526, 38.91069198,\n",
       "       38.92062991, 40.28266024, 38.56952434, 39.93484881, 39.37330017,\n",
       "       42.51647995, 37.81746995, 38.4040526 , 44.62774889, 34.94157232,\n",
       "       36.77243696, 37.18129547, 36.27174894, 34.17969832, 38.34821221,\n",
       "       37.25639198, 37.8107134 , 35.63974429, 34.88010233, 33.04887153,\n",
       "       33.71131836, 34.26212766, 34.53661476, 36.27569368, 35.28186632,\n",
       "       34.31792679, 33.54421823, 34.13999027, 33.5729486 , 29.60507664,\n",
       "       29.85254404, 29.6270995 , 28.59927224, 26.37968313, 26.60967776,\n",
       "       27.70196822, 32.41032483, 30.33776365, 32.36681058, 31.45532042,\n",
       "       27.14067114, 26.25386234, 23.39678189, 24.02780847, 23.40315581,\n",
       "       29.39569984, 23.30839308, 22.99321162, 23.08688016, 23.10393076,\n",
       "       30.27756861, 22.65691607, 22.55846734, 18.74036762, 21.19232186,\n",
       "       19.5896278 , 27.2109665 , 20.1424909 , 26.30101629, 20.03692738,\n",
       "       16.18082759])"
      ]
     },
     "execution_count": 94,
     "metadata": {},
     "output_type": "execute_result"
    }
   ],
   "source": [
    "y_pred_model"
   ]
  },
  {
   "cell_type": "code",
   "execution_count": 76,
   "id": "f8b829c6-2a54-4524-933f-efc74947511c",
   "metadata": {},
   "outputs": [
    {
     "data": {
      "text/plain": [
       "1.5350963162120264"
      ]
     },
     "execution_count": 76,
     "metadata": {},
     "output_type": "execute_result"
    }
   ],
   "source": [
    "mean_absolute_error(cars['MPG'],y_pred_model)"
   ]
  },
  {
   "cell_type": "code",
   "execution_count": 77,
   "id": "ebed7bcd-98b7-48dc-a47f-7bd66bb66123",
   "metadata": {},
   "outputs": [],
   "source": [
    "# Now the accuracy is 91.45 before it was 77"
   ]
  },
  {
   "cell_type": "markdown",
   "id": "86f760b3-ef79-4662-982b-c04b73b5c0eb",
   "metadata": {},
   "source": [
    "# Detecting Influencers/Outliers\n",
    "\n",
    "Cooks Distance\n",
    "High Influence Points\n",
    "Cooks Distance Cook’s distance, is used in Regression Analysis to find influential outliers in a set of independent variables.\n",
    "In other words, it’s a way to identify points that negatively affect your regression model.\n",
    "\n",
    "The measurement is a combination of each observation’s leverage and residual values.\n",
    "\n",
    "The higher the leverage and residuals, the higher the Cook’s distance.\n",
    "\n",
    "Several interpretations for Cook’s distance exist. There isn’t a universally accepted rule for cut off points.\n",
    "\n",
    "If you have a lot of points with large Cook's Distance values, that could indicate a problem with your regression model in general."
   ]
  },
  {
   "cell_type": "markdown",
   "id": "a3b99ac1-9b74-4a56-9465-fa45ec4a8ffb",
   "metadata": {},
   "source": [
    "# Cook's distance"
   ]
  },
  {
   "cell_type": "code",
   "execution_count": 78,
   "id": "fc502048-dfed-4ef7-9d3e-4e3d1918003c",
   "metadata": {},
   "outputs": [],
   "source": [
    "model_f_outliers = model_f2.get_influence()"
   ]
  },
  {
   "cell_type": "code",
   "execution_count": 79,
   "id": "70d05a4b-70d2-4dde-9d21-5a541668f019",
   "metadata": {},
   "outputs": [],
   "source": [
    "dis,_ = model_f_outliers.cooks_distance"
   ]
  },
  {
   "cell_type": "code",
   "execution_count": 80,
   "id": "a07ad344-2d3d-40af-a55a-b59867d815c6",
   "metadata": {},
   "outputs": [
    {
     "data": {
      "text/plain": [
       "array([2.02339191e-03, 3.77410760e-03, 2.02991098e-03, 2.56728135e-04,\n",
       "       1.06267354e-03, 1.24292956e-05, 2.54341476e-03, 1.09180668e-02,\n",
       "       6.57386006e-03, 2.81675433e-05, 2.47739464e-03, 7.86948404e-02,\n",
       "       1.51711157e-03, 2.60079082e-03, 1.46459678e-03, 5.84961707e-03,\n",
       "       4.05695024e-05, 5.86416796e-02, 3.62258766e-05, 9.81361297e-08,\n",
       "       2.05740226e-04, 7.41160118e-03, 1.30414252e-04, 2.88550046e-04,\n",
       "       1.25548657e-03, 4.36071812e-02, 1.03352766e-03, 4.77482776e-08,\n",
       "       2.82574686e-03, 2.22018829e-04, 1.29488222e-02, 2.79412575e-03,\n",
       "       2.27900350e-07, 5.24935318e-03, 2.06097951e-03, 3.21622940e-04,\n",
       "       1.22699854e-05, 2.11039169e-03, 1.33026182e-03, 2.15769228e-03,\n",
       "       1.49638019e-03, 4.99286930e-04, 2.67684119e-04, 1.93002293e-03,\n",
       "       1.57094199e-04, 3.05493035e-05, 4.89915165e-04, 3.96318955e-04,\n",
       "       3.93142603e-03, 9.41910132e-07, 4.90357932e-05, 1.16843416e-08,\n",
       "       2.00390080e-03, 8.97895122e-03, 5.07707560e-05, 2.88855838e-05,\n",
       "       3.62194511e-03, 7.66288607e-04, 7.99079748e-03, 6.00219830e-03,\n",
       "       5.48426460e-05, 5.24915485e-03, 2.06992008e-05, 3.45106306e-04,\n",
       "       6.11994595e-05, 7.92529422e-01, 8.39330337e-05, 1.93841569e-05,\n",
       "       2.79778686e-07, 1.45114579e-02, 1.08238222e+00, 9.43529931e-04,\n",
       "       6.52344497e-04, 4.59436458e-04, 1.04737137e-02, 1.29020922e-03,\n",
       "       9.55047666e-01, 1.83442752e-03, 3.78361303e-01, 2.80477548e-04,\n",
       "       5.02699915e-02])"
      ]
     },
     "execution_count": 80,
     "metadata": {},
     "output_type": "execute_result"
    }
   ],
   "source": [
    "dis"
   ]
  },
  {
   "cell_type": "code",
   "execution_count": 81,
   "id": "f4097e95-0eaf-4707-9324-ec838118a56a",
   "metadata": {},
   "outputs": [
    {
     "data": {
      "image/png": "[encoded data removed]",
      "text/plain": [
       "<Figure size 1500x800 with 1 Axes>"
      ]
     },
     "metadata": {},
     "output_type": "display_data"
    }
   ],
   "source": [
    "plt.figure(figsize=(15,8))\n",
    "plt.stem(dis)\n",
    "plt.show()"
   ]
  },
  {
   "cell_type": "code",
   "execution_count": 82,
   "id": "3a75953b-03ea-4eed-97e3-496f9ed8fec9",
   "metadata": {},
   "outputs": [],
   "source": [
    "cars_df['dis'] = dis"
   ]
  },
  {
   "cell_type": "code",
   "execution_count": 83,
   "id": "f6e190cd-2540-4bbc-8d82-f41a3f7fbec0",
   "metadata": {},
   "outputs": [
    {
     "data": {
      "text/html": [
       "<div>\n",
       "<style scoped>\n",
       "    .dataframe tbody tr th:only-of-type {\n",
       "        vertical-align: middle;\n",
       "    }\n",
       "\n",
       "    .dataframe tbody tr th {\n",
       "        vertical-align: top;\n",
       "    }\n",
       "\n",
       "    .dataframe thead th {\n",
       "        text-align: right;\n",
       "    }\n",
       "</style>\n",
       "<table border=\"1\" class=\"dataframe\">\n",
       "  <thead>\n",
       "    <tr style=\"text-align: right;\">\n",
       "      <th></th>\n",
       "      <th>HP</th>\n",
       "      <th>MPG</th>\n",
       "      <th>VOL</th>\n",
       "      <th>SP</th>\n",
       "      <th>WT</th>\n",
       "      <th>log_HP</th>\n",
       "      <th>log_VOL</th>\n",
       "      <th>log_SP</th>\n",
       "      <th>log_WT</th>\n",
       "      <th>dis</th>\n",
       "    </tr>\n",
       "  </thead>\n",
       "  <tbody>\n",
       "    <tr>\n",
       "      <th>0</th>\n",
       "      <td>49</td>\n",
       "      <td>53.700681</td>\n",
       "      <td>89</td>\n",
       "      <td>104.185353</td>\n",
       "      <td>28.762059</td>\n",
       "      <td>3.891820</td>\n",
       "      <td>4.488636</td>\n",
       "      <td>4.646172</td>\n",
       "      <td>3.359057</td>\n",
       "      <td>0.002023</td>\n",
       "    </tr>\n",
       "    <tr>\n",
       "      <th>1</th>\n",
       "      <td>55</td>\n",
       "      <td>50.013401</td>\n",
       "      <td>92</td>\n",
       "      <td>105.461264</td>\n",
       "      <td>30.466833</td>\n",
       "      <td>4.007333</td>\n",
       "      <td>4.521789</td>\n",
       "      <td>4.658344</td>\n",
       "      <td>3.416639</td>\n",
       "      <td>0.003774</td>\n",
       "    </tr>\n",
       "    <tr>\n",
       "      <th>2</th>\n",
       "      <td>55</td>\n",
       "      <td>50.013401</td>\n",
       "      <td>92</td>\n",
       "      <td>105.461264</td>\n",
       "      <td>30.193597</td>\n",
       "      <td>4.007333</td>\n",
       "      <td>4.521789</td>\n",
       "      <td>4.658344</td>\n",
       "      <td>3.407630</td>\n",
       "      <td>0.002030</td>\n",
       "    </tr>\n",
       "    <tr>\n",
       "      <th>3</th>\n",
       "      <td>70</td>\n",
       "      <td>45.696322</td>\n",
       "      <td>92</td>\n",
       "      <td>113.461264</td>\n",
       "      <td>30.632114</td>\n",
       "      <td>4.248495</td>\n",
       "      <td>4.521789</td>\n",
       "      <td>4.731461</td>\n",
       "      <td>3.422049</td>\n",
       "      <td>0.000257</td>\n",
       "    </tr>\n",
       "    <tr>\n",
       "      <th>4</th>\n",
       "      <td>53</td>\n",
       "      <td>50.504232</td>\n",
       "      <td>92</td>\n",
       "      <td>104.461264</td>\n",
       "      <td>29.889149</td>\n",
       "      <td>3.970292</td>\n",
       "      <td>4.521789</td>\n",
       "      <td>4.648816</td>\n",
       "      <td>3.397495</td>\n",
       "      <td>0.001063</td>\n",
       "    </tr>\n",
       "    <tr>\n",
       "      <th>...</th>\n",
       "      <td>...</td>\n",
       "      <td>...</td>\n",
       "      <td>...</td>\n",
       "      <td>...</td>\n",
       "      <td>...</td>\n",
       "      <td>...</td>\n",
       "      <td>...</td>\n",
       "      <td>...</td>\n",
       "      <td>...</td>\n",
       "      <td>...</td>\n",
       "    </tr>\n",
       "    <tr>\n",
       "      <th>76</th>\n",
       "      <td>322</td>\n",
       "      <td>36.900000</td>\n",
       "      <td>50</td>\n",
       "      <td>169.598513</td>\n",
       "      <td>16.132947</td>\n",
       "      <td>5.774552</td>\n",
       "      <td>3.912023</td>\n",
       "      <td>5.133434</td>\n",
       "      <td>2.780864</td>\n",
       "      <td>0.955048</td>\n",
       "    </tr>\n",
       "    <tr>\n",
       "      <th>77</th>\n",
       "      <td>238</td>\n",
       "      <td>19.197888</td>\n",
       "      <td>115</td>\n",
       "      <td>150.576579</td>\n",
       "      <td>37.923113</td>\n",
       "      <td>5.472271</td>\n",
       "      <td>4.744932</td>\n",
       "      <td>5.014472</td>\n",
       "      <td>3.635561</td>\n",
       "      <td>0.001834</td>\n",
       "    </tr>\n",
       "    <tr>\n",
       "      <th>78</th>\n",
       "      <td>263</td>\n",
       "      <td>34.000000</td>\n",
       "      <td>50</td>\n",
       "      <td>151.598513</td>\n",
       "      <td>15.769625</td>\n",
       "      <td>5.572154</td>\n",
       "      <td>3.912023</td>\n",
       "      <td>5.021236</td>\n",
       "      <td>2.758086</td>\n",
       "      <td>0.378361</td>\n",
       "    </tr>\n",
       "    <tr>\n",
       "      <th>79</th>\n",
       "      <td>295</td>\n",
       "      <td>19.833733</td>\n",
       "      <td>119</td>\n",
       "      <td>167.944460</td>\n",
       "      <td>39.423099</td>\n",
       "      <td>5.686975</td>\n",
       "      <td>4.779123</td>\n",
       "      <td>5.123633</td>\n",
       "      <td>3.674352</td>\n",
       "      <td>0.000280</td>\n",
       "    </tr>\n",
       "    <tr>\n",
       "      <th>80</th>\n",
       "      <td>236</td>\n",
       "      <td>12.101263</td>\n",
       "      <td>107</td>\n",
       "      <td>139.840817</td>\n",
       "      <td>34.948615</td>\n",
       "      <td>5.463832</td>\n",
       "      <td>4.672829</td>\n",
       "      <td>4.940505</td>\n",
       "      <td>3.553879</td>\n",
       "      <td>0.050270</td>\n",
       "    </tr>\n",
       "  </tbody>\n",
       "</table>\n",
       "<p>81 rows × 10 columns</p>\n",
       "</div>"
      ],
      "text/plain": [
       "     HP        MPG  VOL          SP         WT    log_HP   log_VOL    log_SP  \\\n",
       "0    49  53.700681   89  104.185353  28.762059  3.891820  4.488636  4.646172   \n",
       "1    55  50.013401   92  105.461264  30.466833  4.007333  4.521789  4.658344   \n",
       "2    55  50.013401   92  105.461264  30.193597  4.007333  4.521789  4.658344   \n",
       "3    70  45.696322   92  113.461264  30.632114  4.248495  4.521789  4.731461   \n",
       "4    53  50.504232   92  104.461264  29.889149  3.970292  4.521789  4.648816   \n",
       "..  ...        ...  ...         ...        ...       ...       ...       ...   \n",
       "76  322  36.900000   50  169.598513  16.132947  5.774552  3.912023  5.133434   \n",
       "77  238  19.197888  115  150.576579  37.923113  5.472271  4.744932  5.014472   \n",
       "78  263  34.000000   50  151.598513  15.769625  5.572154  3.912023  5.021236   \n",
       "79  295  19.833733  119  167.944460  39.423099  5.686975  4.779123  5.123633   \n",
       "80  236  12.101263  107  139.840817  34.948615  5.463832  4.672829  4.940505   \n",
       "\n",
       "      log_WT       dis  \n",
       "0   3.359057  0.002023  \n",
       "1   3.416639  0.003774  \n",
       "2   3.407630  0.002030  \n",
       "3   3.422049  0.000257  \n",
       "4   3.397495  0.001063  \n",
       "..       ...       ...  \n",
       "76  2.780864  0.955048  \n",
       "77  3.635561  0.001834  \n",
       "78  2.758086  0.378361  \n",
       "79  3.674352  0.000280  \n",
       "80  3.553879  0.050270  \n",
       "\n",
       "[81 rows x 10 columns]"
      ]
     },
     "execution_count": 83,
     "metadata": {},
     "output_type": "execute_result"
    }
   ],
   "source": [
    "cars_df"
   ]
  },
  {
   "cell_type": "code",
   "execution_count": 84,
   "id": "69ce0b4e-d20f-45c1-9a0a-94b6fdcc99d4",
   "metadata": {},
   "outputs": [
    {
     "data": {
      "text/html": [
       "<div>\n",
       "<style scoped>\n",
       "    .dataframe tbody tr th:only-of-type {\n",
       "        vertical-align: middle;\n",
       "    }\n",
       "\n",
       "    .dataframe tbody tr th {\n",
       "        vertical-align: top;\n",
       "    }\n",
       "\n",
       "    .dataframe thead th {\n",
       "        text-align: right;\n",
       "    }\n",
       "</style>\n",
       "<table border=\"1\" class=\"dataframe\">\n",
       "  <thead>\n",
       "    <tr style=\"text-align: right;\">\n",
       "      <th></th>\n",
       "      <th>HP</th>\n",
       "      <th>MPG</th>\n",
       "      <th>VOL</th>\n",
       "      <th>SP</th>\n",
       "      <th>WT</th>\n",
       "      <th>log_HP</th>\n",
       "      <th>log_VOL</th>\n",
       "      <th>log_SP</th>\n",
       "      <th>log_WT</th>\n",
       "      <th>dis</th>\n",
       "    </tr>\n",
       "  </thead>\n",
       "  <tbody>\n",
       "    <tr>\n",
       "      <th>70</th>\n",
       "      <td>280</td>\n",
       "      <td>19.678507</td>\n",
       "      <td>50</td>\n",
       "      <td>164.598513</td>\n",
       "      <td>15.823060</td>\n",
       "      <td>5.634790</td>\n",
       "      <td>3.912023</td>\n",
       "      <td>5.103509</td>\n",
       "      <td>2.761468</td>\n",
       "      <td>1.082382e+00</td>\n",
       "    </tr>\n",
       "    <tr>\n",
       "      <th>76</th>\n",
       "      <td>322</td>\n",
       "      <td>36.900000</td>\n",
       "      <td>50</td>\n",
       "      <td>169.598513</td>\n",
       "      <td>16.132947</td>\n",
       "      <td>5.774552</td>\n",
       "      <td>3.912023</td>\n",
       "      <td>5.133434</td>\n",
       "      <td>2.780864</td>\n",
       "      <td>9.550477e-01</td>\n",
       "    </tr>\n",
       "    <tr>\n",
       "      <th>65</th>\n",
       "      <td>165</td>\n",
       "      <td>40.050000</td>\n",
       "      <td>50</td>\n",
       "      <td>126.598513</td>\n",
       "      <td>15.712859</td>\n",
       "      <td>5.105945</td>\n",
       "      <td>3.912023</td>\n",
       "      <td>4.841021</td>\n",
       "      <td>2.754479</td>\n",
       "      <td>7.925294e-01</td>\n",
       "    </tr>\n",
       "    <tr>\n",
       "      <th>78</th>\n",
       "      <td>263</td>\n",
       "      <td>34.000000</td>\n",
       "      <td>50</td>\n",
       "      <td>151.598513</td>\n",
       "      <td>15.769625</td>\n",
       "      <td>5.572154</td>\n",
       "      <td>3.912023</td>\n",
       "      <td>5.021236</td>\n",
       "      <td>2.758086</td>\n",
       "      <td>3.783613e-01</td>\n",
       "    </tr>\n",
       "    <tr>\n",
       "      <th>11</th>\n",
       "      <td>92</td>\n",
       "      <td>39.354094</td>\n",
       "      <td>50</td>\n",
       "      <td>117.598513</td>\n",
       "      <td>15.753535</td>\n",
       "      <td>4.521789</td>\n",
       "      <td>3.912023</td>\n",
       "      <td>4.767276</td>\n",
       "      <td>2.757065</td>\n",
       "      <td>7.869484e-02</td>\n",
       "    </tr>\n",
       "    <tr>\n",
       "      <th>...</th>\n",
       "      <td>...</td>\n",
       "      <td>...</td>\n",
       "      <td>...</td>\n",
       "      <td>...</td>\n",
       "      <td>...</td>\n",
       "      <td>...</td>\n",
       "      <td>...</td>\n",
       "      <td>...</td>\n",
       "      <td>...</td>\n",
       "      <td>...</td>\n",
       "    </tr>\n",
       "    <tr>\n",
       "      <th>68</th>\n",
       "      <td>165</td>\n",
       "      <td>23.103172</td>\n",
       "      <td>123</td>\n",
       "      <td>133.312342</td>\n",
       "      <td>40.472042</td>\n",
       "      <td>5.105945</td>\n",
       "      <td>4.812184</td>\n",
       "      <td>4.892695</td>\n",
       "      <td>3.700611</td>\n",
       "      <td>2.797787e-07</td>\n",
       "    </tr>\n",
       "    <tr>\n",
       "      <th>32</th>\n",
       "      <td>102</td>\n",
       "      <td>36.285456</td>\n",
       "      <td>97</td>\n",
       "      <td>119.921115</td>\n",
       "      <td>31.380041</td>\n",
       "      <td>4.624973</td>\n",
       "      <td>4.574711</td>\n",
       "      <td>4.786834</td>\n",
       "      <td>3.446172</td>\n",
       "      <td>2.279004e-07</td>\n",
       "    </tr>\n",
       "    <tr>\n",
       "      <th>19</th>\n",
       "      <td>90</td>\n",
       "      <td>38.901834</td>\n",
       "      <td>103</td>\n",
       "      <td>118.472936</td>\n",
       "      <td>33.516974</td>\n",
       "      <td>4.499810</td>\n",
       "      <td>4.634729</td>\n",
       "      <td>4.774685</td>\n",
       "      <td>3.512052</td>\n",
       "      <td>9.813613e-08</td>\n",
       "    </tr>\n",
       "    <tr>\n",
       "      <th>27</th>\n",
       "      <td>92</td>\n",
       "      <td>38.411003</td>\n",
       "      <td>99</td>\n",
       "      <td>119.105055</td>\n",
       "      <td>32.835069</td>\n",
       "      <td>4.521789</td>\n",
       "      <td>4.595120</td>\n",
       "      <td>4.780006</td>\n",
       "      <td>3.491497</td>\n",
       "      <td>4.774828e-08</td>\n",
       "    </tr>\n",
       "    <tr>\n",
       "      <th>51</th>\n",
       "      <td>115</td>\n",
       "      <td>29.629936</td>\n",
       "      <td>101</td>\n",
       "      <td>118.288996</td>\n",
       "      <td>33.436711</td>\n",
       "      <td>4.744932</td>\n",
       "      <td>4.615121</td>\n",
       "      <td>4.773131</td>\n",
       "      <td>3.509654</td>\n",
       "      <td>1.168434e-08</td>\n",
       "    </tr>\n",
       "  </tbody>\n",
       "</table>\n",
       "<p>81 rows × 10 columns</p>\n",
       "</div>"
      ],
      "text/plain": [
       "     HP        MPG  VOL          SP         WT    log_HP   log_VOL    log_SP  \\\n",
       "70  280  19.678507   50  164.598513  15.823060  5.634790  3.912023  5.103509   \n",
       "76  322  36.900000   50  169.598513  16.132947  5.774552  3.912023  5.133434   \n",
       "65  165  40.050000   50  126.598513  15.712859  5.105945  3.912023  4.841021   \n",
       "78  263  34.000000   50  151.598513  15.769625  5.572154  3.912023  5.021236   \n",
       "11   92  39.354094   50  117.598513  15.753535  4.521789  3.912023  4.767276   \n",
       "..  ...        ...  ...         ...        ...       ...       ...       ...   \n",
       "68  165  23.103172  123  133.312342  40.472042  5.105945  4.812184  4.892695   \n",
       "32  102  36.285456   97  119.921115  31.380041  4.624973  4.574711  4.786834   \n",
       "19   90  38.901834  103  118.472936  33.516974  4.499810  4.634729  4.774685   \n",
       "27   92  38.411003   99  119.105055  32.835069  4.521789  4.595120  4.780006   \n",
       "51  115  29.629936  101  118.288996  33.436711  4.744932  4.615121  4.773131   \n",
       "\n",
       "      log_WT           dis  \n",
       "70  2.761468  1.082382e+00  \n",
       "76  2.780864  9.550477e-01  \n",
       "65  2.754479  7.925294e-01  \n",
       "78  2.758086  3.783613e-01  \n",
       "11  2.757065  7.869484e-02  \n",
       "..       ...           ...  \n",
       "68  3.700611  2.797787e-07  \n",
       "32  3.446172  2.279004e-07  \n",
       "19  3.512052  9.813613e-08  \n",
       "27  3.491497  4.774828e-08  \n",
       "51  3.509654  1.168434e-08  \n",
       "\n",
       "[81 rows x 10 columns]"
      ]
     },
     "execution_count": 84,
     "metadata": {},
     "output_type": "execute_result"
    }
   ],
   "source": [
    "cars_df.sort_values(by = 'dis', ascending= False)"
   ]
  },
  {
   "cell_type": "markdown",
   "id": "4af9d7c4-2a5a-4f55-a4e0-65fd5993e2b2",
   "metadata": {},
   "source": [
    "# influence plot"
   ]
  },
  {
   "cell_type": "code",
   "execution_count": 85,
   "id": "0fc7c4fc-8068-4279-b93e-149dafd74446",
   "metadata": {},
   "outputs": [],
   "source": [
    "from statsmodels.graphics.regressionplots import influence_plot"
   ]
  },
  {
   "cell_type": "code",
   "execution_count": 86,
   "id": "c7151993-f821-4504-8f11-cb55e9f3d098",
   "metadata": {},
   "outputs": [
    {
     "data": {
      "image/png": "[encoded data removed]",
      "text/plain": [
       "<Figure size 640x480 with 1 Axes>"
      ]
     },
     "metadata": {},
     "output_type": "display_data"
    }
   ],
   "source": [
    "influence_plot(model_f2)\n",
    "plt.show()"
   ]
  },
  {
   "cell_type": "markdown",
   "id": "70ddccba-346a-4ba1-81e0-413cb1482446",
   "metadata": {},
   "source": [
    "# removing the outliers rows"
   ]
  },
  {
   "cell_type": "code",
   "execution_count": 87,
   "id": "c7a07c9b-7bce-4ed5-9770-1cb6f48e4f98",
   "metadata": {},
   "outputs": [],
   "source": [
    "no_out = cars_df.drop(labels=[65,76,78,70])"
   ]
  },
  {
   "cell_type": "code",
   "execution_count": 88,
   "id": "5c259547-4afc-4fa4-a94c-5518138aa83d",
   "metadata": {},
   "outputs": [
    {
     "data": {
      "text/html": [
       "<div>\n",
       "<style scoped>\n",
       "    .dataframe tbody tr th:only-of-type {\n",
       "        vertical-align: middle;\n",
       "    }\n",
       "\n",
       "    .dataframe tbody tr th {\n",
       "        vertical-align: top;\n",
       "    }\n",
       "\n",
       "    .dataframe thead th {\n",
       "        text-align: right;\n",
       "    }\n",
       "</style>\n",
       "<table border=\"1\" class=\"dataframe\">\n",
       "  <thead>\n",
       "    <tr style=\"text-align: right;\">\n",
       "      <th></th>\n",
       "      <th>HP</th>\n",
       "      <th>MPG</th>\n",
       "      <th>VOL</th>\n",
       "      <th>SP</th>\n",
       "      <th>WT</th>\n",
       "      <th>log_HP</th>\n",
       "      <th>log_VOL</th>\n",
       "      <th>log_SP</th>\n",
       "      <th>log_WT</th>\n",
       "      <th>dis</th>\n",
       "    </tr>\n",
       "  </thead>\n",
       "  <tbody>\n",
       "    <tr>\n",
       "      <th>0</th>\n",
       "      <td>49</td>\n",
       "      <td>53.700681</td>\n",
       "      <td>89</td>\n",
       "      <td>104.185353</td>\n",
       "      <td>28.762059</td>\n",
       "      <td>3.891820</td>\n",
       "      <td>4.488636</td>\n",
       "      <td>4.646172</td>\n",
       "      <td>3.359057</td>\n",
       "      <td>0.002023</td>\n",
       "    </tr>\n",
       "    <tr>\n",
       "      <th>1</th>\n",
       "      <td>55</td>\n",
       "      <td>50.013401</td>\n",
       "      <td>92</td>\n",
       "      <td>105.461264</td>\n",
       "      <td>30.466833</td>\n",
       "      <td>4.007333</td>\n",
       "      <td>4.521789</td>\n",
       "      <td>4.658344</td>\n",
       "      <td>3.416639</td>\n",
       "      <td>0.003774</td>\n",
       "    </tr>\n",
       "    <tr>\n",
       "      <th>2</th>\n",
       "      <td>55</td>\n",
       "      <td>50.013401</td>\n",
       "      <td>92</td>\n",
       "      <td>105.461264</td>\n",
       "      <td>30.193597</td>\n",
       "      <td>4.007333</td>\n",
       "      <td>4.521789</td>\n",
       "      <td>4.658344</td>\n",
       "      <td>3.407630</td>\n",
       "      <td>0.002030</td>\n",
       "    </tr>\n",
       "    <tr>\n",
       "      <th>3</th>\n",
       "      <td>70</td>\n",
       "      <td>45.696322</td>\n",
       "      <td>92</td>\n",
       "      <td>113.461264</td>\n",
       "      <td>30.632114</td>\n",
       "      <td>4.248495</td>\n",
       "      <td>4.521789</td>\n",
       "      <td>4.731461</td>\n",
       "      <td>3.422049</td>\n",
       "      <td>0.000257</td>\n",
       "    </tr>\n",
       "    <tr>\n",
       "      <th>4</th>\n",
       "      <td>53</td>\n",
       "      <td>50.504232</td>\n",
       "      <td>92</td>\n",
       "      <td>104.461264</td>\n",
       "      <td>29.889149</td>\n",
       "      <td>3.970292</td>\n",
       "      <td>4.521789</td>\n",
       "      <td>4.648816</td>\n",
       "      <td>3.397495</td>\n",
       "      <td>0.001063</td>\n",
       "    </tr>\n",
       "    <tr>\n",
       "      <th>...</th>\n",
       "      <td>...</td>\n",
       "      <td>...</td>\n",
       "      <td>...</td>\n",
       "      <td>...</td>\n",
       "      <td>...</td>\n",
       "      <td>...</td>\n",
       "      <td>...</td>\n",
       "      <td>...</td>\n",
       "      <td>...</td>\n",
       "      <td>...</td>\n",
       "    </tr>\n",
       "    <tr>\n",
       "      <th>74</th>\n",
       "      <td>140</td>\n",
       "      <td>19.086341</td>\n",
       "      <td>129</td>\n",
       "      <td>121.864163</td>\n",
       "      <td>42.618698</td>\n",
       "      <td>4.941642</td>\n",
       "      <td>4.859812</td>\n",
       "      <td>4.802907</td>\n",
       "      <td>3.752293</td>\n",
       "      <td>0.010474</td>\n",
       "    </tr>\n",
       "    <tr>\n",
       "      <th>75</th>\n",
       "      <td>175</td>\n",
       "      <td>18.762837</td>\n",
       "      <td>129</td>\n",
       "      <td>132.864163</td>\n",
       "      <td>42.778219</td>\n",
       "      <td>5.164786</td>\n",
       "      <td>4.859812</td>\n",
       "      <td>4.889327</td>\n",
       "      <td>3.756029</td>\n",
       "      <td>0.001290</td>\n",
       "    </tr>\n",
       "    <tr>\n",
       "      <th>77</th>\n",
       "      <td>238</td>\n",
       "      <td>19.197888</td>\n",
       "      <td>115</td>\n",
       "      <td>150.576579</td>\n",
       "      <td>37.923113</td>\n",
       "      <td>5.472271</td>\n",
       "      <td>4.744932</td>\n",
       "      <td>5.014472</td>\n",
       "      <td>3.635561</td>\n",
       "      <td>0.001834</td>\n",
       "    </tr>\n",
       "    <tr>\n",
       "      <th>79</th>\n",
       "      <td>295</td>\n",
       "      <td>19.833733</td>\n",
       "      <td>119</td>\n",
       "      <td>167.944460</td>\n",
       "      <td>39.423099</td>\n",
       "      <td>5.686975</td>\n",
       "      <td>4.779123</td>\n",
       "      <td>5.123633</td>\n",
       "      <td>3.674352</td>\n",
       "      <td>0.000280</td>\n",
       "    </tr>\n",
       "    <tr>\n",
       "      <th>80</th>\n",
       "      <td>236</td>\n",
       "      <td>12.101263</td>\n",
       "      <td>107</td>\n",
       "      <td>139.840817</td>\n",
       "      <td>34.948615</td>\n",
       "      <td>5.463832</td>\n",
       "      <td>4.672829</td>\n",
       "      <td>4.940505</td>\n",
       "      <td>3.553879</td>\n",
       "      <td>0.050270</td>\n",
       "    </tr>\n",
       "  </tbody>\n",
       "</table>\n",
       "<p>77 rows × 10 columns</p>\n",
       "</div>"
      ],
      "text/plain": [
       "     HP        MPG  VOL          SP         WT    log_HP   log_VOL    log_SP  \\\n",
       "0    49  53.700681   89  104.185353  28.762059  3.891820  4.488636  4.646172   \n",
       "1    55  50.013401   92  105.461264  30.466833  4.007333  4.521789  4.658344   \n",
       "2    55  50.013401   92  105.461264  30.193597  4.007333  4.521789  4.658344   \n",
       "3    70  45.696322   92  113.461264  30.632114  4.248495  4.521789  4.731461   \n",
       "4    53  50.504232   92  104.461264  29.889149  3.970292  4.521789  4.648816   \n",
       "..  ...        ...  ...         ...        ...       ...       ...       ...   \n",
       "74  140  19.086341  129  121.864163  42.618698  4.941642  4.859812  4.802907   \n",
       "75  175  18.762837  129  132.864163  42.778219  5.164786  4.859812  4.889327   \n",
       "77  238  19.197888  115  150.576579  37.923113  5.472271  4.744932  5.014472   \n",
       "79  295  19.833733  119  167.944460  39.423099  5.686975  4.779123  5.123633   \n",
       "80  236  12.101263  107  139.840817  34.948615  5.463832  4.672829  4.940505   \n",
       "\n",
       "      log_WT       dis  \n",
       "0   3.359057  0.002023  \n",
       "1   3.416639  0.003774  \n",
       "2   3.407630  0.002030  \n",
       "3   3.422049  0.000257  \n",
       "4   3.397495  0.001063  \n",
       "..       ...       ...  \n",
       "74  3.752293  0.010474  \n",
       "75  3.756029  0.001290  \n",
       "77  3.635561  0.001834  \n",
       "79  3.674352  0.000280  \n",
       "80  3.553879  0.050270  \n",
       "\n",
       "[77 rows x 10 columns]"
      ]
     },
     "execution_count": 88,
     "metadata": {},
     "output_type": "execute_result"
    }
   ],
   "source": [
    "no_out"
   ]
  },
  {
   "cell_type": "markdown",
   "id": "bf08cfb1-cf68-4ca2-afc3-c1294b893b4f",
   "metadata": {},
   "source": [
    "## training the model again with no_out data"
   ]
  },
  {
   "cell_type": "code",
   "execution_count": 89,
   "id": "21b67c5b-090c-4083-8020-b2470028da26",
   "metadata": {},
   "outputs": [
    {
     "name": "stdout",
     "output_type": "stream",
     "text": [
      "AIC 232.50088232418537\n",
      "BIC 241.8761040116001\n",
      "R-squared 0.9870260995889484\n",
      "Adjusted R-squared 0.9864929255994531\n"
     ]
    }
   ],
   "source": [
    "model_f3 = smf.ols(formula = 'MPG~log_HP+log_SP+VOL',data = no_out).fit()\n",
    "\n",
    "print('AIC',model_f3.aic)\n",
    "\n",
    "print('BIC',model_f3.bic)\n",
    "\n",
    "print('R-squared',model_f3.rsquared)\n",
    "\n",
    "print('Adjusted R-squared',model_f3.rsquared_adj)"
   ]
  },
  {
   "cell_type": "code",
   "execution_count": 95,
   "id": "0f6f4f3c-7b25-42f5-9a57-08439e9e5884",
   "metadata": {},
   "outputs": [],
   "source": [
    "y_pred_nod=model_f3.predict()"
   ]
  },
  {
   "cell_type": "code",
   "execution_count": 96,
   "id": "cea8282d-337a-4ee7-b59e-1aa90e7d96ee",
   "metadata": {},
   "outputs": [
    {
     "data": {
      "text/plain": [
       "array([54.24839821, 50.29431005, 50.29431005, 46.57192861, 51.01188385,\n",
       "       46.57796686, 50.29431005, 45.9816966 , 45.9816966 , 42.53369664,\n",
       "       43.31420653, 41.32851179, 41.04478144, 43.31420653, 45.1450324 ,\n",
       "       43.31420653, 42.84630688, 41.32851179, 42.84630688, 39.08288523,\n",
       "       38.9147144 , 41.19811675, 38.29031799, 40.52108788, 38.35913562,\n",
       "       39.11575389, 38.80956748, 38.9147144 , 46.83164239, 35.61187682,\n",
       "       37.46890964, 37.49157382, 35.37093191, 35.27115926, 38.23108962,\n",
       "       36.9025219 , 36.93010717, 33.97959598, 33.97959598, 31.57784411,\n",
       "       34.61270268, 34.63830536, 33.95377845, 34.69190549, 34.78719461,\n",
       "       34.01293186, 33.95806938, 34.09977086, 31.6382633 , 28.94560082,\n",
       "       28.94560082, 28.94560082, 28.81867937, 26.02039008, 25.98052231,\n",
       "       27.90745891, 31.20214108, 28.94560082, 31.04567379, 31.74384592,\n",
       "       26.8556723 , 25.66086871, 24.09745393, 24.16821553, 23.35810871,\n",
       "       22.77597659, 22.61568348, 22.66573971, 21.79867166, 22.63380412,\n",
       "       22.67105656, 21.11350564, 21.34996033, 19.51254898, 18.50065708,\n",
       "       18.673849  , 13.08840771])"
      ]
     },
     "execution_count": 96,
     "metadata": {},
     "output_type": "execute_result"
    }
   ],
   "source": [
    "y_pred_nod"
   ]
  },
  {
   "cell_type": "code",
   "execution_count": 97,
   "id": "44bf586a-3908-4ac5-ac27-62f68d6945c5",
   "metadata": {},
   "outputs": [
    {
     "data": {
      "text/plain": [
       "3.267968285420799"
      ]
     },
     "execution_count": 97,
     "metadata": {},
     "output_type": "execute_result"
    }
   ],
   "source": [
    "mean_absolute_error(cars_df[\"MPG\"],y_pred)"
   ]
  },
  {
   "cell_type": "code",
   "execution_count": 98,
   "id": "9e1027ce-6ba5-4a91-b728-aaca68b62f41",
   "metadata": {},
   "outputs": [
    {
     "data": {
      "text/plain": [
       "1.5350963162120264"
      ]
     },
     "execution_count": 98,
     "metadata": {},
     "output_type": "execute_result"
    }
   ],
   "source": [
    "mean_absolute_error(cars_df[\"MPG\"],y_pred_model)"
   ]
  },
  {
   "cell_type": "code",
   "execution_count": 99,
   "id": "221ae767-8eb3-4bfc-aedf-0d64420ad3b2",
   "metadata": {},
   "outputs": [
    {
     "data": {
      "text/plain": [
       "0.807663435540959"
      ]
     },
     "execution_count": 99,
     "metadata": {},
     "output_type": "execute_result"
    }
   ],
   "source": [
    "mean_absolute_error(no_out[\"MPG\"],y_pred_nod)"
   ]
  },
  {
   "cell_type": "code",
   "execution_count": 100,
   "id": "07f8a834-b445-45ce-aca6-ad87bae75250",
   "metadata": {},
   "outputs": [
    {
     "data": {
      "text/plain": [
       "0     10.258747\n",
       "1      7.624608\n",
       "2      7.734060\n",
       "3      3.157963\n",
       "4      8.331584\n",
       "        ...    \n",
       "76    15.617904\n",
       "77     1.298838\n",
       "78     7.863547\n",
       "79     7.517122\n",
       "80    -3.458218\n",
       "Name: MPG, Length: 81, dtype: float64"
      ]
     },
     "execution_count": 100,
     "metadata": {},
     "output_type": "execute_result"
    }
   ],
   "source": [
    "errors"
   ]
  },
  {
   "cell_type": "code",
   "execution_count": 101,
   "id": "5cec73fb-cfb5-4a1b-8b04-af6d6a793561",
   "metadata": {},
   "outputs": [
    {
     "data": {
      "text/plain": [
       "<matplotlib.collections.PathCollection at 0x125b536e0>"
      ]
     },
     "execution_count": 101,
     "metadata": {},
     "output_type": "execute_result"
    },
    {
     "data": {
      "image/png": "[encoded data removed]",
      "text/plain": [
       "<Figure size 640x480 with 1 Axes>"
      ]
     },
     "metadata": {},
     "output_type": "display_data"
    }
   ],
   "source": [
    "plt.scatter(x=cars_df['MPG'],y=errors)"
   ]
  },
  {
   "cell_type": "code",
   "execution_count": 102,
   "id": "f93b3fcf-b8dd-41eb-8e94-7f44bdfd4e47",
   "metadata": {},
   "outputs": [],
   "source": [
    "error_1=no_out[\"MPG\"]-y_pred_nod"
   ]
  },
  {
   "cell_type": "code",
   "execution_count": 103,
   "id": "d5ca61e5-9828-4074-af72-eccef4724356",
   "metadata": {},
   "outputs": [
    {
     "data": {
      "text/plain": [
       "0    -0.547717\n",
       "1    -0.280909\n",
       "2    -0.280909\n",
       "3    -0.875606\n",
       "4    -0.507652\n",
       "        ...   \n",
       "74   -2.263620\n",
       "75   -0.749712\n",
       "77    0.697231\n",
       "79    1.159884\n",
       "80   -0.987145\n",
       "Name: MPG, Length: 77, dtype: float64"
      ]
     },
     "execution_count": 103,
     "metadata": {},
     "output_type": "execute_result"
    }
   ],
   "source": [
    "error_1"
   ]
  },
  {
   "cell_type": "code",
   "execution_count": 104,
   "id": "a9cdc56a-88d0-4bff-a3f0-ccfcfde29459",
   "metadata": {},
   "outputs": [
    {
     "data": {
      "text/plain": [
       "0     53.700681\n",
       "1     50.013401\n",
       "2     50.013401\n",
       "3     45.696322\n",
       "4     50.504232\n",
       "        ...    \n",
       "74    19.086341\n",
       "75    18.762837\n",
       "77    19.197888\n",
       "79    19.833733\n",
       "80    12.101263\n",
       "Name: MPG, Length: 77, dtype: float64"
      ]
     },
     "execution_count": 104,
     "metadata": {},
     "output_type": "execute_result"
    }
   ],
   "source": [
    "no_out[\"MPG\"]"
   ]
  },
  {
   "cell_type": "code",
   "execution_count": 105,
   "id": "7c0f9eeb-3f50-4067-baed-2bd3d35db42e",
   "metadata": {},
   "outputs": [
    {
     "data": {
      "text/plain": [
       "array([54.24839821, 50.29431005, 50.29431005, 46.57192861, 51.01188385,\n",
       "       46.57796686, 50.29431005, 45.9816966 , 45.9816966 , 42.53369664,\n",
       "       43.31420653, 41.32851179, 41.04478144, 43.31420653, 45.1450324 ,\n",
       "       43.31420653, 42.84630688, 41.32851179, 42.84630688, 39.08288523,\n",
       "       38.9147144 , 41.19811675, 38.29031799, 40.52108788, 38.35913562,\n",
       "       39.11575389, 38.80956748, 38.9147144 , 46.83164239, 35.61187682,\n",
       "       37.46890964, 37.49157382, 35.37093191, 35.27115926, 38.23108962,\n",
       "       36.9025219 , 36.93010717, 33.97959598, 33.97959598, 31.57784411,\n",
       "       34.61270268, 34.63830536, 33.95377845, 34.69190549, 34.78719461,\n",
       "       34.01293186, 33.95806938, 34.09977086, 31.6382633 , 28.94560082,\n",
       "       28.94560082, 28.94560082, 28.81867937, 26.02039008, 25.98052231,\n",
       "       27.90745891, 31.20214108, 28.94560082, 31.04567379, 31.74384592,\n",
       "       26.8556723 , 25.66086871, 24.09745393, 24.16821553, 23.35810871,\n",
       "       22.77597659, 22.61568348, 22.66573971, 21.79867166, 22.63380412,\n",
       "       22.67105656, 21.11350564, 21.34996033, 19.51254898, 18.50065708,\n",
       "       18.673849  , 13.08840771])"
      ]
     },
     "execution_count": 105,
     "metadata": {},
     "output_type": "execute_result"
    }
   ],
   "source": [
    "y_pred_nod"
   ]
  },
  {
   "cell_type": "code",
   "execution_count": 106,
   "id": "6778e358-2c13-454f-8001-b0d88fca088e",
   "metadata": {},
   "outputs": [
    {
     "data": {
      "text/plain": [
       "0    -0.547717\n",
       "1    -0.280909\n",
       "2    -0.280909\n",
       "3    -0.875606\n",
       "4    -0.507652\n",
       "        ...   \n",
       "74   -2.263620\n",
       "75   -0.749712\n",
       "77    0.697231\n",
       "79    1.159884\n",
       "80   -0.987145\n",
       "Name: MPG, Length: 77, dtype: float64"
      ]
     },
     "execution_count": 106,
     "metadata": {},
     "output_type": "execute_result"
    }
   ],
   "source": [
    "error_1"
   ]
  },
  {
   "cell_type": "code",
   "execution_count": 107,
   "id": "98a6fc7c-0b4d-41a8-a743-60e8b906bdba",
   "metadata": {},
   "outputs": [
    {
     "data": {
      "text/plain": [
       "<matplotlib.collections.PathCollection at 0x124d2bb00>"
      ]
     },
     "execution_count": 107,
     "metadata": {},
     "output_type": "execute_result"
    },
    {
     "data": {
      "image/png": "[encoded data removed]",
      "text/plain": [
       "<Figure size 640x480 with 1 Axes>"
      ]
     },
     "metadata": {},
     "output_type": "display_data"
    }
   ],
   "source": [
    "plt.scatter(x=no_out['MPG'],y=error_1)"
   ]
  },
  {
   "cell_type": "code",
   "execution_count": 108,
   "id": "8592d0f9-310c-4344-9f62-8ad8132279fa",
   "metadata": {},
   "outputs": [
    {
     "data": {
      "text/plain": [
       "<matplotlib.collections.PathCollection at 0x124c905c0>"
      ]
     },
     "execution_count": 108,
     "metadata": {},
     "output_type": "execute_result"
    },
    {
     "data": {
      "image/png": "[encoded data removed]",
      "text/plain": [
       "<Figure size 640x480 with 1 Axes>"
      ]
     },
     "metadata": {},
     "output_type": "display_data"
    }
   ],
   "source": [
    "plt.scatter(x=y,y=y_pred)"
   ]
  },
  {
   "cell_type": "code",
   "execution_count": 109,
   "id": "85eb3647-26e5-45e9-a78c-2826a6035336",
   "metadata": {},
   "outputs": [
    {
     "data": {
      "text/plain": [
       "<matplotlib.collections.PathCollection at 0x124c2ff20>"
      ]
     },
     "execution_count": 109,
     "metadata": {},
     "output_type": "execute_result"
    },
    {
     "data": {
      "image/png": "[encoded data removed]",
      "text/plain": [
       "<Figure size 640x480 with 1 Axes>"
      ]
     },
     "metadata": {},
     "output_type": "display_data"
    }
   ],
   "source": [
    "plt.scatter(x=no_out['MPG'],y=y_pred_nod)"
   ]
  },
  {
   "cell_type": "code",
   "execution_count": 110,
   "id": "025e285f-8ecb-409d-b099-5e478c851195",
   "metadata": {},
   "outputs": [],
   "source": [
    "import pickle"
   ]
  },
  {
   "cell_type": "code",
   "execution_count": 111,
   "id": "0f208ee3-2b8f-447d-9247-4bd468eb5a6d",
   "metadata": {},
   "outputs": [],
   "source": [
    "pickle.dump(model_f3, open('Linear_pickel.pkl','wb'))"
   ]
  },
  {
   "cell_type": "code",
   "execution_count": null,
   "id": "8f19aaca-8308-452d-899f-79569ea71b64",
   "metadata": {},
   "outputs": [],
   "source": []
  },
  {
   "cell_type": "code",
   "execution_count": null,
   "id": "3a192a21-71dc-4587-8fb2-c79242bba02d",
   "metadata": {},
   "outputs": [],
   "source": []
  }
 ],
 "metadata": {
  "kernelspec": {
   "display_name": "Python [conda env:ven1]",
   "language": "python",
   "name": "conda-env-ven1-py"
  },
  "language_info": {
   "codemirror_mode": {
    "name": "ipython",
    "version": 3
   },
   "file_extension": ".py",
   "mimetype": "text/x-python",
   "name": "python",
   "nbconvert_exporter": "python",
   "pygments_lexer": "ipython3",
   "version": "3.12.11"
  }
 },
 "nbformat": 4,
 "nbformat_minor": 5
}
