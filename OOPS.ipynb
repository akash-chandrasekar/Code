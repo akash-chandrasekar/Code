{
 "cells": [
  {
   "cell_type": "code",
   "execution_count": 3,
   "id": "40a257b1-e05d-49d5-8648-926e5d7c7a18",
   "metadata": {},
   "outputs": [
    {
     "name": "stdin",
     "output_type": "stream",
     "text": [
      "Enter the name akash\n",
      "Enter your age 24\n",
      "Enter the no. of tickets 2\n",
      "Enter the movie name 83\n"
     ]
    },
    {
     "name": "stdout",
     "output_type": "stream",
     "text": [
      "Thank you akash you booked 2 tickets for 83\n",
      "The total amount for 2 is 300\n"
     ]
    }
   ],
   "source": [
    "class ticket:\n",
    "    def __init__(self,name,age,num_ticket,movie):\n",
    "        self.name = name\n",
    "        self.age = age\n",
    "        self.num_ticket = num_ticket\n",
    "        self.movie = movie\n",
    "\n",
    "    def calculate_ticket(self):\n",
    "        if self.age < 18:\n",
    "            ticket_price = 100\n",
    "        elif self.age > 60:\n",
    "            ticket_price = 120\n",
    "        else:\n",
    "            ticket_price = 150\n",
    "\n",
    "        total_price = ticket_price * num_ticket\n",
    "        return total_price\n",
    "\n",
    "    def book_ticket(self):\n",
    "        total_price = self.calculate_ticket()\n",
    "        print(f'Thank you {self.name} you booked {self.num_ticket} tickets for {self.movie}')\n",
    "        print(f'The total amount for {self.num_ticket} is {total_price}')\n",
    "\n",
    "if __name__ == '__main__':\n",
    "    name = input('Enter the name')\n",
    "    age = int(input('Enter your age'))\n",
    "    num_ticket = int(input('Enter the no. of tickets'))\n",
    "    movie = input('Enter the movie name')\n",
    "\n",
    "    cus_1 = ticket(name,age,num_ticket,movie)\n",
    "    cus_1.book_ticket()\n"
   ]
  },
  {
   "cell_type": "code",
   "execution_count": null,
   "id": "021b709c-172f-492a-8049-6ddff7a337ec",
   "metadata": {},
   "outputs": [],
   "source": []
  }
 ],
 "metadata": {
  "kernelspec": {
   "display_name": "Python 3 (ipykernel)",
   "language": "python",
   "name": "python3"
  },
  "language_info": {
   "codemirror_mode": {
    "name": "ipython",
    "version": 3
   },
   "file_extension": ".py",
   "mimetype": "text/x-python",
   "name": "python",
   "nbconvert_exporter": "python",
   "pygments_lexer": "ipython3",
   "version": "3.13.3"
  }
 },
 "nbformat": 4,
 "nbformat_minor": 5
}
