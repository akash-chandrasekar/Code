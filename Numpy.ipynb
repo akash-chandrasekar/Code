{
 "cells": [
  {
   "cell_type": "code",
   "execution_count": 35,
   "id": "e7ed5943-9c3c-429b-8d7f-a6d53147760f",
   "metadata": {},
   "outputs": [
    {
     "name": "stdout",
     "output_type": "stream",
     "text": [
      "Requirement already satisfied: numpy in /Library/Frameworks/Python.framework/Versions/3.13/lib/python3.13/site-packages (2.3.1)\n",
      "\n",
      "\u001b[1m[\u001b[0m\u001b[34;49mnotice\u001b[0m\u001b[1;39;49m]\u001b[0m\u001b[39;49m A new release of pip is available: \u001b[0m\u001b[31;49m25.0.1\u001b[0m\u001b[39;49m -> \u001b[0m\u001b[32;49m25.1.1\u001b[0m\n",
      "\u001b[1m[\u001b[0m\u001b[34;49mnotice\u001b[0m\u001b[1;39;49m]\u001b[0m\u001b[39;49m To update, run: \u001b[0m\u001b[32;49mpip3 install --upgrade pip\u001b[0m\n",
      "Note: you may need to restart the kernel to use updated packages.\n"
     ]
    }
   ],
   "source": [
    "pip install numpy"
   ]
  },
  {
   "cell_type": "code",
   "execution_count": 36,
   "id": "05796dab-796f-4d1f-b4ee-093303373afc",
   "metadata": {},
   "outputs": [],
   "source": [
    "import numpy as np"
   ]
  },
  {
   "cell_type": "code",
   "execution_count": 37,
   "id": "ad9a6a61-7931-40e0-a40a-88226c69efa7",
   "metadata": {},
   "outputs": [],
   "source": [
    "arr = np.array([10,20,30,40,50,60])"
   ]
  },
  {
   "cell_type": "code",
   "execution_count": 38,
   "id": "eb9abc70-eae8-422b-901a-271d3665816d",
   "metadata": {},
   "outputs": [
    {
     "data": {
      "text/plain": [
       "numpy.ndarray"
      ]
     },
     "execution_count": 38,
     "metadata": {},
     "output_type": "execute_result"
    }
   ],
   "source": [
    "type(arr)\n"
   ]
  },
  {
   "cell_type": "code",
   "execution_count": 39,
   "id": "88e8230f-da35-4036-a6d1-d53fea7c648a",
   "metadata": {},
   "outputs": [
    {
     "data": {
      "text/plain": [
       "array([12, 22, 32, 42, 52, 62])"
      ]
     },
     "execution_count": 39,
     "metadata": {},
     "output_type": "execute_result"
    }
   ],
   "source": [
    "arr+2"
   ]
  },
  {
   "cell_type": "code",
   "execution_count": 40,
   "id": "0d4f4908-b54b-4d92-b7fb-dbe65bad7079",
   "metadata": {},
   "outputs": [
    {
     "data": {
      "text/plain": [
       "array([ 8, 18, 28, 38, 48, 58])"
      ]
     },
     "execution_count": 40,
     "metadata": {},
     "output_type": "execute_result"
    }
   ],
   "source": [
    "arr-2"
   ]
  },
  {
   "cell_type": "code",
   "execution_count": 41,
   "id": "af18cdc2-2406-4b0e-bc28-626dbd7fd83e",
   "metadata": {},
   "outputs": [],
   "source": [
    "num = np.array([10,20,30.1,40])"
   ]
  },
  {
   "cell_type": "code",
   "execution_count": 42,
   "id": "cf46a7ef-735b-4431-87a2-22bc5a28c1fa",
   "metadata": {},
   "outputs": [
    {
     "data": {
      "text/plain": [
       "array([10. , 20. , 30.1, 40. ])"
      ]
     },
     "execution_count": 42,
     "metadata": {},
     "output_type": "execute_result"
    }
   ],
   "source": [
    "num"
   ]
  },
  {
   "cell_type": "code",
   "execution_count": 43,
   "id": "810379de-018c-42c5-ba93-7cdc9ad80760",
   "metadata": {},
   "outputs": [],
   "source": [
    "num_1 = np.array([10,20,30,'40'])"
   ]
  },
  {
   "cell_type": "code",
   "execution_count": 44,
   "id": "86e6f3cc-8aa7-4cb1-a260-e1083f66d468",
   "metadata": {},
   "outputs": [
    {
     "data": {
      "text/plain": [
       "array(['10', '20', '30', '40'], dtype='<U21')"
      ]
     },
     "execution_count": 44,
     "metadata": {},
     "output_type": "execute_result"
    }
   ],
   "source": [
    "num_1"
   ]
  },
  {
   "cell_type": "markdown",
   "id": "54e1b09a-2215-463b-aa34-a673c7b92a66",
   "metadata": {},
   "source": [
    "## create 2D array\n"
   ]
  },
  {
   "cell_type": "code",
   "execution_count": 51,
   "id": "43608dce-208f-4477-84b6-8b051c9cbf2f",
   "metadata": {},
   "outputs": [],
   "source": [
    "num_2 = np.array([[1,2,3.5,4],[5,6,7,8],[9,10,11,12]])"
   ]
  },
  {
   "cell_type": "code",
   "execution_count": 52,
   "id": "a70830bd-0506-484f-8d9d-a224abc0f5c1",
   "metadata": {},
   "outputs": [
    {
     "data": {
      "text/plain": [
       "2"
      ]
     },
     "execution_count": 52,
     "metadata": {},
     "output_type": "execute_result"
    }
   ],
   "source": [
    "num_2.ndim "
   ]
  },
  {
   "cell_type": "code",
   "execution_count": 53,
   "id": "56e0c899-b5fb-45d6-8933-ddcc29ad2e38",
   "metadata": {},
   "outputs": [
    {
     "data": {
      "text/plain": [
       "array([[ 1. ,  2. ,  3.5,  4. ],\n",
       "       [ 5. ,  6. ,  7. ,  8. ],\n",
       "       [ 9. , 10. , 11. , 12. ]])"
      ]
     },
     "execution_count": 53,
     "metadata": {},
     "output_type": "execute_result"
    }
   ],
   "source": [
    "num_2"
   ]
  },
  {
   "cell_type": "code",
   "execution_count": 54,
   "id": "73408eaa-ce23-46d0-9b6b-e7e61fb1b68d",
   "metadata": {},
   "outputs": [
    {
     "data": {
      "text/plain": [
       "np.float64(3.5)"
      ]
     },
     "execution_count": 54,
     "metadata": {},
     "output_type": "execute_result"
    }
   ],
   "source": [
    "num_2[0][2]"
   ]
  },
  {
   "cell_type": "code",
   "execution_count": 57,
   "id": "38292cb1-64de-4d9f-9226-916daf1d629b",
   "metadata": {},
   "outputs": [],
   "source": [
    "num_2[1][2]=3.2"
   ]
  },
  {
   "cell_type": "code",
   "execution_count": 58,
   "id": "8f84dff1-e72f-46e8-8a5d-d9d7402525a5",
   "metadata": {},
   "outputs": [
    {
     "data": {
      "text/plain": [
       "array([[ 1. ,  2. ,  3.5,  4. ],\n",
       "       [ 5. ,  6. ,  3.2,  8. ],\n",
       "       [ 9. , 10. , 11. , 12. ]])"
      ]
     },
     "execution_count": 58,
     "metadata": {},
     "output_type": "execute_result"
    }
   ],
   "source": [
    "num_2"
   ]
  },
  {
   "cell_type": "code",
   "execution_count": 59,
   "id": "a080062b-8d8d-411e-b520-6308800289fa",
   "metadata": {},
   "outputs": [],
   "source": [
    "num_2[1][2] = np.nan"
   ]
  },
  {
   "cell_type": "code",
   "execution_count": 61,
   "id": "b6116b38-e1de-4078-ae62-05df68e729e4",
   "metadata": {},
   "outputs": [
    {
     "data": {
      "text/plain": [
       "array([[ 1. ,  2. ,  3.5,  4. ],\n",
       "       [ 5. ,  6. ,  nan,  8. ],\n",
       "       [ 9. , 10. , 11. , 12. ]])"
      ]
     },
     "execution_count": 61,
     "metadata": {},
     "output_type": "execute_result"
    }
   ],
   "source": [
    "num_2"
   ]
  },
  {
   "cell_type": "markdown",
   "id": "224c8c6d-8dea-42c1-8c7d-f50c2db65207",
   "metadata": {},
   "source": [
    "## creating 3d array"
   ]
  },
  {
   "cell_type": "code",
   "execution_count": 62,
   "id": "9d43c41b-3655-45c5-a143-1e6c210acd29",
   "metadata": {},
   "outputs": [],
   "source": [
    "num_3 = np.array([[[0,1,2],[3,4,5],[6,7,8],[9,10,11]]])"
   ]
  },
  {
   "cell_type": "code",
   "execution_count": 63,
   "id": "3f60b933-3992-4061-94c5-e4aafd3700e3",
   "metadata": {},
   "outputs": [
    {
     "data": {
      "text/plain": [
       "3"
      ]
     },
     "execution_count": 63,
     "metadata": {},
     "output_type": "execute_result"
    }
   ],
   "source": [
    "num_3.ndim"
   ]
  },
  {
   "cell_type": "code",
   "execution_count": null,
   "id": "ea8863fa-acfb-481a-9523-de5feca9f0aa",
   "metadata": {},
   "outputs": [],
   "source": []
  }
 ],
 "metadata": {
  "kernelspec": {
   "display_name": "Python 3 (ipykernel)",
   "language": "python",
   "name": "python3"
  },
  "language_info": {
   "codemirror_mode": {
    "name": "ipython",
    "version": 3
   },
   "file_extension": ".py",
   "mimetype": "text/x-python",
   "name": "python",
   "nbconvert_exporter": "python",
   "pygments_lexer": "ipython3",
   "version": "3.13.3"
  }
 },
 "nbformat": 4,
 "nbformat_minor": 5
}
